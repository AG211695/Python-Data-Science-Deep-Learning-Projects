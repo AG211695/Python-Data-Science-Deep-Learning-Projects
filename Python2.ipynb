{
 "cells": [
  {
   "cell_type": "code",
   "execution_count": null,
   "id": "45102a0d",
   "metadata": {},
   "outputs": [],
   "source": [
    "#Problem_1\n",
    "#Define a function called positivity generator\n",
    "#The function should take user input of a sentence, and find the first appearance of the substring 'not' and 'bad' from the user\n",
    "#input. If 'not' appears before the 'bad', the function should replace the whole 'not'...'bad' substring with 'good'.\n",
    "#Return the resulting string. Note your function should be able to handle user input with difference cases."
   ]
  },
  {
   "cell_type": "code",
   "execution_count": null,
   "id": "13e9358a",
   "metadata": {},
   "outputs": [],
   "source": [
    "#Firzt defining a function \"positivity generator\" as mentioned in the question.\n",
    "#Then using the input function, asking the user to enter a sentence that contains not...bad in it and assigning it into a variable\n",
    "#Then, converting a user input to lower case\n",
    "#Using find function, finding the word not and assigning it to a variable\n",
    "#Again Using find function, finding the word bad and assigning it to a variable\n",
    "#Using if, else and elif trying to print the respective output as mentioned below:\n",
    "   #if both not or bad is not found then printing, 'The input cannot generate positivity'\n",
    "   #if the sentence finds the word 'not',before the word 'bad'(which means if not < bad) then we are going to slice the sentence from the beginning till before the word 'not' is found\n",
    "   #And after slicing till 'not', we are going to add a word 'good'\n",
    "   #Then if the word 'bad' is found in the sentence, we are going to slice from the word bad plus 3 position till the end of the word 'bad' which will slice this word and add the remaining of the sentence and print the output appropriately\n",
    "   #For any other situations for the user input, we are using else function to print the output 'The input cannot generate positivity'\n",
    "#Calling the function defined and executing the remaining program as stated in the question.\n",
    "#"
   ]
  },
  {
   "cell_type": "code",
   "execution_count": null,
   "id": "9614aa5a",
   "metadata": {},
   "outputs": [],
   "source": [
    "def positivity_generator():\n",
    "    user_inp1 = input('Please enter a sentence that contains \"not....bad\" in it: ')\n",
    "    user_inp2 = user_inp1.lower()\n",
    "    locate_not = user_inp2.find('not')\n",
    "    locate_bad = user_inp2.find('bad')\n",
    "    if locate_not == -1 or locate_bad == -1:\n",
    "        print('The input cannot generate positive outcome')\n",
    "    elif locate_not < locate_bad:\n",
    "        print(user_inp2[:locate_not]+'good'+user_inp2[locate_bad+3:])\n",
    "    else:\n",
    "        print('The input cannot generate positive outcome')"
   ]
  },
  {
   "cell_type": "code",
   "execution_count": null,
   "id": "d253ead8",
   "metadata": {},
   "outputs": [],
   "source": [
    "positivity_generator()"
   ]
  },
  {
   "cell_type": "code",
   "execution_count": null,
   "id": "cdd91437",
   "metadata": {},
   "outputs": [],
   "source": [
    "#Problem_2\n",
    "#Write a function that accepts a line of text and a single letter as input \n",
    "#(your program should be able to handle all upper and lower cases) and returns the number of times this letter is \n",
    "#the second last character of a word. Note your program should be able to handle different cases. \n",
    "#And check if the user input is a single letter."
   ]
  },
  {
   "cell_type": "code",
   "execution_count": null,
   "id": "d10bc455",
   "metadata": {},
   "outputs": [],
   "source": [
    "#Defining a function called 'nos_of_letter' and using input function assigning variables that accepts a line of text and a single letter for which the total count in needed in the user input\n",
    "#Then converting the user inputs into lowercase using lower() function\n",
    "#importing and using regular expression package, to remove any expression entered by the user in the sentence.\n",
    "#In order to avoid wrong input from the user, like intergers are someother than string, I'm using while loop with True , and using 'if' with 'and' condition, checking whether the user inputs a string and a single letter\n",
    "#So if the user inputs a single letter string if funtion breaks and proceeds with the further code\n",
    "#if not else condition will be executed by printing 'You did not enter a single letter'and asking the user to again enter a valid string with single letter by using input function.\n",
    "#Converting the user input into lower case\n",
    "#Assigning a variable to use split function, to split the sentence into seperate words\n",
    "#As using split function, the outcome is with the type list\n",
    "#Now using for loop, where for loop will loop every single word in the list, we are going to count the number of single letter that the user inputs and its match against the second last letter of the words in the list\n",
    "#So if the user entered single letter matches against the second last letter of the seperated words(using index -2 to locate the second last letter of the words in the list), then the total number of words is counted and stored in a variable using for loop\n",
    "#Finally, the output will print the number of times the user entered letter is appeared or not.\n"
   ]
  },
  {
   "cell_type": "code",
   "execution_count": null,
   "id": "a3b4a7d1",
   "metadata": {},
   "outputs": [],
   "source": [
    "def nos_of_letter():\n",
    "    user_inp1 = input('Please enter a sentence: ')\n",
    "    user_inp2 = input('Please enter a single word: ')\n",
    "    con_user_inp1 = user_inp1.lower()\n",
    "    con_user_inp2 = user_inp2.lower()\n",
    "    \n",
    "    import re\n",
    "    con_user_inp2 = re.sub(r'[^\\w\\s]','',con_user_inp2)\n",
    "    \n",
    "    while(True):\n",
    "        if type(con_user_inp2) is str and len(con_user_inp2) == 1:\n",
    "            break\n",
    "        else:\n",
    "            print('You did not enter a single letter')\n",
    "            user_inp2 = input('Please enter a single word')\n",
    "            con_user_inp2 = user_inp2.lower()\n",
    "    sentence = con_user_inp1.split()\n",
    "    print(sentence)\n",
    "    n = 0\n",
    "    for words in sentence:\n",
    "        if words[-2] == con_user_inp2:\n",
    "            n  = n + 1\n",
    "    print(n,'word has', con_user_inp2, 'as the second last letter in this sentence')\n",
    "    \n",
    "            "
   ]
  },
  {
   "cell_type": "code",
   "execution_count": null,
   "id": "c9bb6ea2",
   "metadata": {},
   "outputs": [],
   "source": [
    "nos_of_letter()"
   ]
  },
  {
   "cell_type": "code",
   "execution_count": null,
   "id": "17e7d1f1",
   "metadata": {},
   "outputs": [],
   "source": [
    "#Problem3\n",
    "#Write a Python program to ask user input of a string, then ask user input of what letters they want to remove from the string.\n",
    "#User can either put in \"odd\", \"even\" or a number \"n\" that is greater than 2. When user input \"odd\", it will remove \n",
    "#the characters which have odd numbers in the sequence of the string. When user input \"even\", it will remove \n",
    "#the characters which have even numbers in the sequence of the string. \n",
    "#When user input \"n\" number, it will remove the characters which have nth numbers in the sequence of the string. \n",
    "#Note that we are talking about the sequence of the letters, so the first letter in a string is number 1, the second is number 2, and so on."
   ]
  },
  {
   "cell_type": "code",
   "execution_count": null,
   "id": "8645ecc1",
   "metadata": {},
   "outputs": [],
   "source": [
    "#First defining functions, to remove which position of the letter the user wants to remove\n",
    "#If the user wants to remove the odd number letter, then using 'for' loop which will loop through each word, and length funtion will give the length of the word and range funtion which will convert the lenght to range.Now using the if loop, we are finding whether the range +1 divisible by 2, then we are going to rempove odd and print even numbered letters\n",
    "#If the user wants to remove the even number letter, then using 'for' loop which will loop through each word, and length funtion will give the length of the word and range funtion which will convert the lenght to range.Now using the if loop, we are finding whether the range +1 is not divisible by 2, then we are going to remove even and print odd numbered letters\n",
    "#If the user wants to remove the any numbered letter of his choice, we are mentioning that number in argument and then performing the same method as for removing even numered letters\n",
    "#After defining the funtions successfully, we are asking the user to input the string and the position of the number of the letter which he likes to remove in the entered string\n",
    "#Using While as True, and using try, if else funtions we are executing the program for which the number the user entered and using the except method we are asking the user to enter an input until he enters a valid number\n"
   ]
  },
  {
   "cell_type": "code",
   "execution_count": null,
   "id": "4a903599",
   "metadata": {},
   "outputs": [],
   "source": [
    "def remove_odd(string):\n",
    "    output = ''\n",
    "    for i in range(len(string)):\n",
    "        if (i+1) % 2 == 0:\n",
    "            output = output + string[i]\n",
    "    return output\n",
    "\n",
    "def remove_even(string):\n",
    "    output = ''\n",
    "    for i in range(len(string)):\n",
    "        if (i+1) % 2 != 0:\n",
    "            output = output + string[i]\n",
    "    return output\n",
    "\n",
    "def remove_nth(string,n):\n",
    "    output = ''\n",
    "    for i in range(len(string)):\n",
    "        if (i+1) % 2 != 0:\n",
    "            output = output + string[i]\n",
    "    return output"
   ]
  },
  {
   "cell_type": "code",
   "execution_count": null,
   "id": "d68b2f4e",
   "metadata": {},
   "outputs": [],
   "source": [
    "user_inp = input('Please enter a string: ')\n",
    "nos_to_remove = input('Please enter a letter you want to remove, either odd, even, or any nth letter: ')\n",
    "while(True):\n",
    "    try:\n",
    "        if nos_to_remove == 'odd':\n",
    "            print(remove_odd(user_inp))\n",
    "            break\n",
    "        elif nos_to_remove == 'even':\n",
    "            print(remove_even(user_inp))\n",
    "            break\n",
    "        else:\n",
    "            print(remove_nth(user_inp, int(nos_to_remove)))\n",
    "            break\n",
    "    except:\n",
    "        print(\"You did not enter the correct choice, please try again\")\n",
    "        nos_to_remove = input('Please enter a letter you want to remove, either odd, even, or any nth letter: ')"
   ]
  },
  {
   "cell_type": "code",
   "execution_count": null,
   "id": "8dc6cd6a",
   "metadata": {},
   "outputs": [],
   "source": [
    "#Problem4\n",
    "#Write a Python program to create a Caesar encryption. Your program will first ask for the input of a secret message, \n",
    "#then ask how many places you wish to shift each letter in the alphabet. In the end, your program will produce the \n",
    "#shifted secret message as a string. Your program should be able to handle all upper and lower cases, \n",
    "#and check if the user inputs are valid."
   ]
  },
  {
   "cell_type": "code",
   "execution_count": null,
   "id": "35e0bd56",
   "metadata": {},
   "outputs": [],
   "source": [
    "#Assigning variables to creating the secret message, to assign the number of places to shift and to create and assign a list for alphabets\n",
    "#Then creating a empty string and assigning it to a variable in order for the new secret message to store\n",
    "#Using 'for' loop and looping through each letter in the original secret message sentence we are going to print the new secret message\n",
    "  #Using if function we are comparing each letter in the secret message against the alphabets list and then using another variable we are storing the index of each letter.\n",
    "  #Then using a new variable we are assigning the shifted index of the secret message.\n",
    "  #If the sentence includes the shifted index position after \"z\", the output will throw error, so in order to avoid it, using if function we are locating the index from \"a\" using original index position-26.\n",
    "#Else funtion is used when the shift position is not beyond 25\n",
    "#Atlast to print the new secret message, we are creating a variable to assign the new secret message and printing it using the empty created string with new shifted index letters\n",
    "    "
   ]
  },
  {
   "cell_type": "code",
   "execution_count": null,
   "id": "9a23858d",
   "metadata": {},
   "outputs": [],
   "source": [
    "x_info = \"Winter is coming!\"\n",
    "y = 5\n",
    "\n",
    "alp = 'abcdefghijklmnopqrstuvwxyz'\n",
    "print(len(alp))\n",
    "alp_lst = list(alp)\n",
    "print(alp_lst)"
   ]
  },
  {
   "cell_type": "code",
   "execution_count": null,
   "id": "97bd2539",
   "metadata": {},
   "outputs": [],
   "source": [
    "new_x_info = ''\n",
    "for letter in x_info:\n",
    "    if letter in alp_lst:\n",
    "        index = alp_lst.index(letter)\n",
    "        new_index = index + y\n",
    "        if new_index > 25:\n",
    "            new_letter = alp_lst[new_index-26]\n",
    "        else:\n",
    "            new_letter = alp_lst[new_index]\n",
    "        new_x_info = new_x_info + new_letter\n",
    "    else:\n",
    "        new_x_info = new_x_info + letter\n",
    "print(new_x_info)"
   ]
  },
  {
   "cell_type": "code",
   "execution_count": null,
   "id": "f15a3d02",
   "metadata": {},
   "outputs": [],
   "source": [
    "#Problem5\n",
    "#Write a Python program that 'brute force' the password. \n",
    "#Your program will first ask the user to enter a 6 digit password (numbers only), then your program will try to crack this \n",
    "#password, in the end, your program will print out what the cracked password is, and how many attempts that it took to crack \n",
    "#the password."
   ]
  },
  {
   "cell_type": "code",
   "execution_count": null,
   "id": "a6584a79",
   "metadata": {},
   "outputs": [],
   "source": [
    "#Asking the user to input a six digit password and assigning it to a variable\n",
    "#Then creating an empty string to assigning it to a variable to store the output\n",
    "#To keep a check for looping six digits only,we are assigning a variable to zero and also to count the iteartion we are creating another variable and assigning it to zero\n",
    "#Using while loop for guessing correct answer, using assigned variable < 6 and starting the execution and first printing the password digits one by one\n",
    "#Using for loop, as we know that the user entered password are numbers we are using range from 0 to 10 which is actually from 0 to 9 we are starting the for loop\n",
    "#For each iteration the count will increase to finally print the total number of iteration as we want them to print it.\n",
    "#Using if function we are comparing the user entered number(as input is always a typr string, we are using string type befor the variable) and comparing it against the printed password digits\n",
    "#If the above steps in comparision is equal means if the user entered number and the guessed number is equal, then we are assigning it to a new variable and to print in at the end\n",
    "#Once 6 iterations are completed the execution breaks, and we are printing the guessed number that equals user entered, and the number os iterations it took to find it."
   ]
  },
  {
   "cell_type": "code",
   "execution_count": null,
   "id": "5d19a64f",
   "metadata": {},
   "outputs": [],
   "source": [
    "password = input('six digit password: ')\n",
    "guess = ''\n",
    "n = 0\n",
    "count = 0\n",
    "while n < 6:\n",
    "    print(password[n])\n",
    "    for i in range(0,10):\n",
    "        count = count + 1\n",
    "        if str(i) == password[n]:\n",
    "            guess = guess + str(i)\n",
    "            break\n",
    "    n = n + 1\n",
    "print(guess,count)"
   ]
  },
  {
   "cell_type": "code",
   "execution_count": null,
   "id": "d939f52b",
   "metadata": {},
   "outputs": [],
   "source": [
    "#Homework2\n",
    "#Source- Referred class7 lecture & the website https://www.homeworklib.com/\n",
    "\n",
    "#identifying the total number of integer the user wants to give as input(as per homework problem it should be 3 or 4)\n",
    "inp = input(\"Do you want to enter 3 or 4 integers?\")\n",
    "\n",
    "#Asking the user to input an integer and as inputs are always strings, converting them to integer when a user enters a \n",
    "#valid integer.Otherwise it throws the appropriate errorif inp == '3':\n",
    "if inp == '3':\n",
    "    n1 = int(input(\"Please enter the first number: \"))\n",
    "    n2 = int(input(\"Please enter the second number: \"))\n",
    "    n3 = int(input(\"Please enter the third number: \"))\n",
    "    \n",
    "elif inp == '4':\n",
    "    n1 = int(input(\"Please enter the first number: \"))\n",
    "    n2 = int(input(\"Please enter the second number: \"))\n",
    "    n3 = int(input(\"Please enter the third number: \"))\n",
    "    n4 = int(input(\"Please enter the fourth number: \"))\n",
    "else:\n",
    "    print('Invalid Input')\n",
    "\n",
    "\n",
    "\n",
    "smallest = n1\n",
    "if n2 < smallest:\n",
    "    smallest = n1\n",
    "if n3 < smallest:\n",
    "    smallest = n2\n",
    "if n4 < smallest:\n",
    "    smallest = n4\n",
    "if n5 < smallest:\n",
    "    smallest = n5\n",
    "\n",
    "largest = n1\n",
    "if n2 > largest:\n",
    "    largest = n1\n",
    "if n3 > largest:\n",
    "    largest = n2\n",
    "if n4 > largest:\n",
    "    largest = n4\n",
    "if n5 > largest:\n",
    "    largest = n5\n",
    "\n",
    "print(\"The sum is:              \" + str(n1 + n2 + n3 + n4 + n5))\n",
    "print(\"The average is:          \" + str((n1 + n2 + n3 + n4 + n5)/5))\n",
    "print(\"The product is:          \" + str(n1 * n2 * n3 * n4 * n5))\n",
    "print(\"The largest number is:   \" + str(largest))\n",
    "print(\"The smallest number is:  \" + str(smallest))"
   ]
  },
  {
   "cell_type": "code",
   "execution_count": null,
   "id": "790b67e5",
   "metadata": {},
   "outputs": [],
   "source": [
    "#defining a function using 'while'1 loop in order to making the user to enter a valid integer as input for the code to complete successfully.\n",
    "def test_input():\n",
    "    while(True):\n",
    "        inp = input('Please enter an integer')\n",
    "        try:\n",
    "            x = int(inp)\n",
    "            return x\n",
    "        except:\n",
    "            print('You did not enter an integer. Please enter an integer')"
   ]
  },
  {
   "cell_type": "code",
   "execution_count": null,
   "id": "b9d7bd1b",
   "metadata": {},
   "outputs": [],
   "source": [
    "test_input()"
   ]
  },
  {
   "cell_type": "code",
   "execution_count": null,
   "id": "2def79bd",
   "metadata": {},
   "outputs": [],
   "source": [
    "#Using function defined, \n",
    "inp = input(\"Do you want to enter 3 or 4 integers?\")\n",
    "if inp == '3':\n",
    "    n1 = test_input()\n",
    "    n2 = test_input()\n",
    "    n3 = test_input()\n",
    "    \n",
    "elif inp == '4':\n",
    "    n1 = test_input()\n",
    "    n2 = test_input()\n",
    "    n3 = test_input()\n",
    "    n4 = test_input()\n",
    "else:\n",
    "    print('Invalid Input')\n",
    "    \n",
    "smallest = n1\n",
    "if n2 < smallest:\n",
    "    smallest = n1\n",
    "if n3 < smallest:\n",
    "    smallest = n2\n",
    "if n4 < smallest:\n",
    "    smallest = n4\n",
    "\n",
    "\n",
    "largest = n1\n",
    "if n2 > largest:\n",
    "    largest = n1\n",
    "if n3 > largest:\n",
    "    largest = n2\n",
    "if n4 > largest:\n",
    "    largest = n4\n",
    "\n",
    "\n",
    "print(\"The sum is:              \" + str(n1 + n2 + n3 + n4))\n",
    "print(\"The average is:          \" + str((n1 + n2 + n3 + n4)/4))\n",
    "print(\"The product is:          \" + str(n1 * n2 * n3 * n4))\n",
    "print(\"The largest number is:   \" + str(largest))\n",
    "print(\"The smallest number is:  \" + str(smallest))"
   ]
  },
  {
   "cell_type": "markdown",
   "id": "512e3d10",
   "metadata": {},
   "source": [
    "Negative integer cannot be prime numbers. So when the user enters any negative integer, a message displays saying \"You did not enter a positive integer\". When the user enters values as '0' a message displays saying \"0 is neither prime or composite\". Likewise when the user enters values as '1' a message displays saying \"1 is neither prime or composite\". When the user enters a valid positive interger, for loop is executed. For whatever the number entered by the user, the range is considered from 2 to the number before the entered number and for loop is executed for every number in the range list. So if the number entered is 5, the range is condsidered between 2 to 4, ie., 2,3,4. The if statement after the for loop will be executed and finds when the entered number by the user divided by the numbers in range list gives the remainder as '0' then it prints that the number is not a prime number and until it breaks the loop when all the numbers in the range list is executed. If when the entered number by the user divided by the numbers in range list gives the remainder that is not equal to '0' then it prints that the number is a prime number and until it breaks the loop when all the numbers in the range list is executed. For this program, the user has to run the script for every input."
   ]
  },
  {
   "cell_type": "code",
   "execution_count": null,
   "id": "fd413246",
   "metadata": {},
   "outputs": [],
   "source": [
    "#Input function to ask the user to enter any number and directly considering it as an integer value\n",
    "inp_num = int(input(\"Enter any number: \"))\n",
    "\n",
    "#stating the if condition for the entered value greater than 1\n",
    "#stating elif condition when the user enters values that is '0' or '1'\n",
    "#stating else condition when the user enters any negative value\n",
    "if inp_num > 1:\n",
    "    for n in range(2, inp_num):\n",
    "        if (inp_num % n) == 0:\n",
    "            print(inp_num, \"is not a prime number\")\n",
    "            break\n",
    "    else:\n",
    "        print(inp_num, \"is a prime number\")    \n",
    "elif inp_num == 0 or inp_num == 1:\n",
    "    print(inp_num, \"is neither prime or composite\")\n",
    "    \n",
    "else:\n",
    "    print('You did not enter a positive integer')"
   ]
  },
  {
   "cell_type": "code",
   "execution_count": null,
   "id": "cb8f086e",
   "metadata": {},
   "outputs": [],
   "source": [
    "#Asking the program to generate a random key between 1 to 100 using random function and assigning it to a variable\n",
    "#Asking the user to continue entering the guess until the key is correct by using try& except method inside while loop\n",
    "#Giving while True as conditional value, asking the user to enter the guess for the key generated by the program between 1 to 100\n",
    "#When the guess is not equal to key, using if, elif conditions to guide the user until correct key is entered\n",
    "#Using else consition to confirm the user that the guess and key is correct\n"
   ]
  },
  {
   "cell_type": "code",
   "execution_count": null,
   "id": "e7bf7837",
   "metadata": {},
   "outputs": [],
   "source": [
    "import random as rd\n",
    "key = rd.randint(1,100)\n",
    "\n",
    "while True:\n",
    "    guess = input('Please enter your guess: ')\n",
    "    try:\n",
    "        guess = float(guess)\n",
    "        if guess - key > 10:\n",
    "            print('Your guess is much bigger than the key! Try again!')\n",
    "        elif 10 >= guess - key > 0:\n",
    "            print('Almost there! But still a bit too big! Try again!')\n",
    "        elif guess - key < -10:\n",
    "            print('Your guess is much smaller than the key! Try again!')\n",
    "        elif 0 > guess-key >= -10:\n",
    "            print('Almost there! But still a bit too small! Try again!')\n",
    "        else:\n",
    "            print('Bingo!')\n",
    "            break\n",
    "    except:\n",
    "        print('Your input for guess is not valid')\n",
    "print(key)\n"
   ]
  },
  {
   "cell_type": "code",
   "execution_count": null,
   "id": "7db08820",
   "metadata": {},
   "outputs": [],
   "source": [
    "x = input('input a string:')\n",
    "y = float(x)\n",
    "z = int(y)\n",
    "print(z)"
   ]
  },
  {
   "cell_type": "code",
   "execution_count": null,
   "id": "8baf9299",
   "metadata": {},
   "outputs": [],
   "source": []
  },
  {
   "cell_type": "code",
   "execution_count": null,
   "id": "b975974b",
   "metadata": {},
   "outputs": [],
   "source": []
  },
  {
   "cell_type": "code",
   "execution_count": null,
   "id": "61c22fb1",
   "metadata": {},
   "outputs": [],
   "source": []
  },
  {
   "cell_type": "code",
   "execution_count": null,
   "id": "f4400695",
   "metadata": {},
   "outputs": [],
   "source": []
  },
  {
   "cell_type": "code",
   "execution_count": null,
   "id": "8837828b",
   "metadata": {},
   "outputs": [],
   "source": []
  }
 ],
 "metadata": {
  "kernelspec": {
   "display_name": "Python 3",
   "language": "python",
   "name": "python3"
  },
  "language_info": {
   "codemirror_mode": {
    "name": "ipython",
    "version": 3
   },
   "file_extension": ".py",
   "mimetype": "text/x-python",
   "name": "python",
   "nbconvert_exporter": "python",
   "pygments_lexer": "ipython3",
   "version": "3.8.8"
  }
 },
 "nbformat": 4,
 "nbformat_minor": 5
}

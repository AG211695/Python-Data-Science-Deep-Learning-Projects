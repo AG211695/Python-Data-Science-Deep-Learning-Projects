{
 "cells": [
  {
   "cell_type": "markdown",
   "id": "a97beeb5",
   "metadata": {},
   "source": [
    "<p><b><u>Introduction</b></u>\n",
    "<p>In my research about computer vision and its constant effort to improve and cope with the billions of available/processing images daily, I feel that this is going to be a continuous learning process until it reaches perfection in whatever field and purpose it is required for. Image classification covers a vast variety of  different areas and it can be almost used across all domain to improve its business especially through identifying certain major findings/defects, suggesting, detecting etc., Though it is hard for computers to recognize due to high dimension/quality of images, and huge available variety of image classification available,  this is one of a fascinating classification to learn using Machine/deep learning which really will benefit any business/domain.</p>"
   ]
  },
  {
   "cell_type": "code",
   "execution_count": 1,
   "id": "6bba2b87",
   "metadata": {},
   "outputs": [
    {
     "data": {
      "text/plain": [
       "'2.10.0'"
      ]
     },
     "execution_count": 1,
     "metadata": {},
     "output_type": "execute_result"
    }
   ],
   "source": [
    "#Tensorflow installation done\n",
    "import tensorflow as tf\n",
    "tf.__version__"
   ]
  },
  {
   "cell_type": "markdown",
   "id": "03561c97",
   "metadata": {},
   "source": [
    "Now, it's time to load the dataset"
   ]
  },
  {
   "cell_type": "code",
   "execution_count": 2,
   "id": "769fbf3b",
   "metadata": {},
   "outputs": [],
   "source": [
    "from tensorflow import keras\n",
    "fashion_mnist = keras.datasets.fashion_mnist\n",
    "(X_train, y_train), (X_test, y_test) = fashion_mnist.load_data()"
   ]
  },
  {
   "cell_type": "markdown",
   "id": "2bc4c3ac",
   "metadata": {},
   "source": [
    "<p><b><u>Overview about Dataset</b></u>\n",
    "<p>Fashion MNIST is a popular dataset available on Kaggle which contains a total of 70,000 grayscale resized images to 28*28 pixel, that can be categorized into 10 different types of fashion items. This data is divided into 60,000 which can be used as training dataset and 10,000 as testing dataset.</p> \n",
    "\n",
    "<p>As can be seen from the above code, the dataset was divided into train and test sets. Let's take a look at the size of each train and test dataset</p>"
   ]
  },
  {
   "cell_type": "code",
   "execution_count": 3,
   "id": "7980dcae",
   "metadata": {},
   "outputs": [
    {
     "name": "stdout",
     "output_type": "stream",
     "text": [
      "(60000, 28, 28)\n",
      "(60000,)\n",
      "(10000, 28, 28)\n",
      "(10000,)\n"
     ]
    }
   ],
   "source": [
    "print(X_train.shape)\n",
    "print(y_train.shape)\n",
    "print(X_test.shape)\n",
    "print(y_test.shape)"
   ]
  },
  {
   "cell_type": "markdown",
   "id": "b6b36200",
   "metadata": {},
   "source": [
    "As it is clear, the train dataset (`X_train`) contains 60,000 images of size 28 x 28. We can visualize one of the images using the following code:"
   ]
  },
  {
   "cell_type": "code",
   "execution_count": 4,
   "id": "96a9143f",
   "metadata": {},
   "outputs": [
    {
     "data": {
      "image/png": "[encoded data removed]",
      "text/plain": [
       "<Figure size 432x288 with 1 Axes>"
      ]
     },
     "metadata": {
      "needs_background": "light"
     },
     "output_type": "display_data"
    }
   ],
   "source": [
    "import matplotlib as mpl\n",
    "import matplotlib.pyplot as plt\n",
    "%matplotlib inline\n",
    "\n",
    "sample_image = X_train[10]\n",
    "plt.imshow(sample_image, cmap='binary')\n",
    "plt.axis('off')\n",
    "plt.show()"
   ]
  },
  {
   "cell_type": "markdown",
   "id": "ca7bedc8",
   "metadata": {},
   "source": [
    "The `y_train` also includes values between 0 and 9. Each represents a particular category. For example, we can check the value of `y_train` for the above image."
   ]
  },
  {
   "cell_type": "code",
   "execution_count": 5,
   "id": "cf284283",
   "metadata": {},
   "outputs": [
    {
     "data": {
      "text/plain": [
       "0"
      ]
     },
     "execution_count": 5,
     "metadata": {},
     "output_type": "execute_result"
    }
   ],
   "source": [
    "y_train[10]"
   ]
  },
  {
   "cell_type": "markdown",
   "id": "4180525f",
   "metadata": {},
   "source": [
    "The above code shows that the image belongs to category 0. To get the associated label with each category, you can use the following code:"
   ]
  },
  {
   "cell_type": "code",
   "execution_count": 6,
   "id": "f67edc89",
   "metadata": {},
   "outputs": [
    {
     "name": "stdout",
     "output_type": "stream",
     "text": [
      "T-shirt/top\n"
     ]
    }
   ],
   "source": [
    "class_names = ['T-shirt/top','Trouser','Pullover','Dress','Coat','Sandal','Shirt','Sneaker','Bag','Ankle boot']\n",
    "print(class_names[y_train[10]])"
   ]
  },
  {
   "cell_type": "code",
   "execution_count": 10,
   "id": "a35445db",
   "metadata": {},
   "outputs": [],
   "source": [
    "#Reshaping the dataset\n",
    "X_train = X_train.reshape(60000, 784)\n",
    "X_test = X_test.reshape(10000, 784)"
   ]
  },
  {
   "cell_type": "markdown",
   "id": "e4f1357c",
   "metadata": {},
   "source": [
    "<p><b><u>Project Objective</b></u>\n",
    "<p>The main objective of this project is to attain maximum accuracy in classification using different methods of models in the dataset to achieve its best performance. The models which I used are Logistic Regression, Naive Bayes, Decision Tree Classifier, Random Forest, Neural Network, K-Nearest Neighbors & SVM.</p>\n",
    "\n",
    "<p><b><u>Model Comparisons and Results:</b></u>\n",
    "<p><b>Model Name: Logistic Regression</b>\n",
    "The first model i used is Logistic FRegression. There was not much of challenges I faced when I implemented this model but the accuracy score of in sample dataset for this model is around 87% which outweighs the percentage of out-of sample data which is 84%. Beside the fact that train data outperforms the test data, I suggest this model can be used to achieve some level of accuracy for our dataset."
   ]
  },
  {
   "cell_type": "code",
   "execution_count": 23,
   "id": "c96580b6",
   "metadata": {},
   "outputs": [],
   "source": [
    "#Importing all necessary packages and model modules required \n",
    "from sklearn.linear_model import LogisticRegression\n",
    "from sklearn.neighbors import KNeighborsClassifier\n",
    "from sklearn.naive_bayes import GaussianNB\n",
    "from sklearn.tree import DecisionTreeClassifier\n",
    "from sklearn.ensemble import RandomForestClassifier\n",
    "from sklearn.neural_network import MLPClassifier\n",
    "from sklearn.svm import SVC \n",
    "\n",
    "from sklearn.model_selection import GridSearchCV\n",
    "from sklearn.model_selection import StratifiedKFold\n",
    "\n",
    "from sklearn.metrics import classification_report, confusion_matrix\n",
    "from sklearn.metrics import accuracy_score\n",
    "from sklearn.metrics import roc_auc_score\n",
    "from sklearn.model_selection import cross_val_score\n",
    "from PIL import Image"
   ]
  },
  {
   "cell_type": "code",
   "execution_count": 11,
   "id": "276dd740",
   "metadata": {},
   "outputs": [
    {
     "name": "stderr",
     "output_type": "stream",
     "text": [
      "C:\\Users\\Suzzane\\Anaconda3\\lib\\site-packages\\sklearn\\linear_model\\_logistic.py:763: ConvergenceWarning: lbfgs failed to converge (status=1):\n",
      "STOP: TOTAL NO. of ITERATIONS REACHED LIMIT.\n",
      "\n",
      "Increase the number of iterations (max_iter) or scale the data as shown in:\n",
      "    https://scikit-learn.org/stable/modules/preprocessing.html\n",
      "Please also refer to the documentation for alternative solver options:\n",
      "    https://scikit-learn.org/stable/modules/linear_model.html#logistic-regression\n",
      "  n_iter_i = _check_optimize_result(\n"
     ]
    }
   ],
   "source": [
    "#implementing Logistic Regression Model\n",
    "log_model = LogisticRegression(max_iter= 200)\n",
    "\n",
    "#Fitting the train dataset\n",
    "log_model.fit(X_train, y_train)\n",
    "\n",
    "#Predicting the test dataset\n",
    "yTestHat_log = log_model.predict(X_test)\n",
    "yTrainHat_log = log_model.predict(X_train)"
   ]
  },
  {
   "cell_type": "code",
   "execution_count": 12,
   "id": "702d89bb",
   "metadata": {},
   "outputs": [
    {
     "name": "stdout",
     "output_type": "stream",
     "text": [
      "In-sample Accuracy:  87.03\n",
      "Out-of-sample Accuracy:  84.0\n",
      "Classification Report:               precision    recall  f1-score   support\n",
      "\n",
      "           0       0.80      0.80      0.80      1000\n",
      "           1       0.96      0.96      0.96      1000\n",
      "           2       0.72      0.73      0.73      1000\n",
      "           3       0.83      0.85      0.84      1000\n",
      "           4       0.72      0.77      0.74      1000\n",
      "           5       0.95      0.90      0.93      1000\n",
      "           6       0.63      0.56      0.59      1000\n",
      "           7       0.91      0.94      0.92      1000\n",
      "           8       0.93      0.94      0.94      1000\n",
      "           9       0.93      0.95      0.94      1000\n",
      "\n",
      "    accuracy                           0.84     10000\n",
      "   macro avg       0.84      0.84      0.84     10000\n",
      "weighted avg       0.84      0.84      0.84     10000\n",
      "\n",
      "Confusion Matrix: [[795  11  12  48   8   0 114   0  12   0]\n",
      " [  3 961   3  25   3   0   3   0   2   0]\n",
      " [ 23   6 729  12 139   1  76   0  14   0]\n",
      " [ 26  23  19 849  36   0  40   0   7   0]\n",
      " [  0   1 106  34 770   0  81   0   8   0]\n",
      " [  0   1   0   0   0 904   0  50   5  40]\n",
      " [138   2 128  39 112   0 560   0  21   0]\n",
      " [  0   0   0   0   0  34   0 939   0  27]\n",
      " [  6   1   9  10   3   4  20   6 941   0]\n",
      " [  0   0   0   0   0  11   1  36   0 952]]\n"
     ]
    }
   ],
   "source": [
    "#Checking accuracy for In-sample data\n",
    "inSample_log = accuracy_score(y_train,yTrainHat_log, normalize = True) * 100\n",
    "print(\"In-sample Accuracy: \", inSample_log)\n",
    "\n",
    "#Checking out sample accuracy\n",
    "outOfSample_log = accuracy_score(y_test,yTestHat_log, normalize = True) * 100\n",
    "print(\"Out-of-sample Accuracy: \", outOfSample_log)\n",
    "\n",
    "#Deriving report \n",
    "cr_log = classification_report(y_test,yTestHat_log)\n",
    "print(\"Classification Report:\", cr_log)\n",
    "\n",
    "#caluclating the confusion matrix\n",
    "print(\"Confusion Matrix:\", confusion_matrix(y_test,yTestHat_log))"
   ]
  },
  {
   "cell_type": "markdown",
   "id": "73b09f9c",
   "metadata": {},
   "source": [
    "<p><b> Model Name: Decision Tree classifier</b>\n",
    "<p>The second model used is \"Decision Tree classifier\". Though this model does not require much of scaling, I used Grid Search Cross Validation to select maximum depth to get maximum accuracy. The best which got selected is the number 8, but the accuracy achieved using this model is 78% which is less than that of Logistic regression.</p>"
   ]
  },
  {
   "cell_type": "code",
   "execution_count": 13,
   "id": "55eca31b",
   "metadata": {},
   "outputs": [
    {
     "name": "stdout",
     "output_type": "stream",
     "text": [
      "Best Parameter selected: {'max_depth': 8}\n",
      "Best Cross Validation Score: 0.78865\n"
     ]
    }
   ],
   "source": [
    "#Implementing Decision Tree Classifier Model\n",
    "dt_model = DecisionTreeClassifier()\n",
    "\n",
    "#Selection using hyperparameter concept\n",
    "param_grid_dt = {'max_depth': [5,6,7,8]}\n",
    "\n",
    "#Using StratifiedKFold with n_splits 5\n",
    "cv_dt = StratifiedKFold(n_splits=5, random_state=0, shuffle=True)\n",
    "\n",
    "#Declaring needed variables to implement the model\n",
    "grid_dt = GridSearchCV(dt_model, param_grid_dt, cv = cv_dt, \n",
    "                    return_train_score=True, scoring='accuracy')\n",
    "\n",
    "#Fitting the model\n",
    "grid_dt.fit(X_train, y_train)\n",
    "print(\"Best Parameter selected: {}\".format(grid_dt.best_params_))\n",
    "print(\"Best Cross Validation Score: {}\".format(grid_dt.best_score_))\n",
    "\n",
    "#Step selecting the best model for Decison Tree\n",
    "model_bestDT = grid_dt.best_estimator_\n",
    "\n",
    "#Predicting train dataset\n",
    "yTrainHat_dt  = model_bestDT.predict(X_train)\n",
    "\n",
    "#Predicting Test Dataset\n",
    "yTestHat_dt  = model_bestDT.predict(X_test)"
   ]
  },
  {
   "cell_type": "code",
   "execution_count": 14,
   "id": "32b81864",
   "metadata": {},
   "outputs": [
    {
     "name": "stdout",
     "output_type": "stream",
     "text": [
      "In-sample Accuracy:  80.55666666666667\n",
      "Out-of-sample Accuracy:  78.18\n",
      "              precision    recall  f1-score   support\n",
      "\n",
      "           0       0.72      0.80      0.76      1000\n",
      "           1       0.97      0.92      0.95      1000\n",
      "           2       0.63      0.67      0.65      1000\n",
      "           3       0.78      0.82      0.80      1000\n",
      "           4       0.57      0.68      0.62      1000\n",
      "           5       0.93      0.84      0.88      1000\n",
      "           6       0.58      0.39      0.47      1000\n",
      "           7       0.87      0.89      0.88      1000\n",
      "           8       0.89      0.89      0.89      1000\n",
      "           9       0.88      0.92      0.90      1000\n",
      "\n",
      "    accuracy                           0.78     10000\n",
      "   macro avg       0.78      0.78      0.78     10000\n",
      "weighted avg       0.78      0.78      0.78     10000\n",
      "\n",
      "Confusion Matrix: [[797   2  25  48  26   1  83   0  15   3]\n",
      " [ 14 922   3  43  11   1   2   0   3   1]\n",
      " [ 11   0 671  16 224   0  65   0  13   0]\n",
      " [ 44  13  26 822  56   2  23   0  14   0]\n",
      " [  8   0 160  70 678   0  81   0   3   0]\n",
      " [  1   5   0   6   0 842   1  78  30  37]\n",
      " [228   2 159  41 150   3 393   0  23   1]\n",
      " [  0   0   0   0   0  34   0 885   5  76]\n",
      " [  4   2  20   9  37   6  24   6 887   5]\n",
      " [  2   0   2   0   0  15   1  53   6 921]]\n"
     ]
    }
   ],
   "source": [
    "#Checking accuracy for In-sample data\n",
    "inSample_dt = accuracy_score(y_train,yTrainHat_dt, normalize = True) * 100\n",
    "\n",
    "#Checking out sample accuracy \n",
    "outOfSample_dt = accuracy_score(y_test,yTestHat_dt, normalize = True) * 100\n",
    "print(\"In-sample Accuracy: \", inSample_dt)\n",
    "print(\"Out-of-sample Accuracy: \", outOfSample_dt)\n",
    "\n",
    "#Deriving Report\n",
    "cr_dt = classification_report(y_test,yTestHat_dt)\n",
    "print(cr_dt)\n",
    "print(\"Confusion Matrix:\", confusion_matrix(y_test,yTestHat_dt))"
   ]
  },
  {
   "cell_type": "markdown",
   "id": "e1df4ee6",
   "metadata": {},
   "source": [
    "<p><b> Model Name: Naive Bayes</b>\n",
    "<p>Though Naive Bayes predicted fast compared with other complex models but the accuracy score seems to be worst for the dataset selected which is around 59%. So this model is not a good suit for this dataset</p>"
   ]
  },
  {
   "cell_type": "code",
   "execution_count": 15,
   "id": "b197da32",
   "metadata": {},
   "outputs": [],
   "source": [
    "#Model Implementation\n",
    "nb_model = GaussianNB()\n",
    "\n",
    "#Fitting the Model\n",
    "nb_model.fit(X_train, y_train)\n",
    "\n",
    "#Predicting Test data\n",
    "yTestHat_nb = nb_model.predict(X_test)\n",
    "\n",
    "#Predicting Train Data\n",
    "yTrainHat_nb = nb_model.predict(X_train)"
   ]
  },
  {
   "cell_type": "code",
   "execution_count": 17,
   "id": "2a13e174",
   "metadata": {},
   "outputs": [
    {
     "name": "stdout",
     "output_type": "stream",
     "text": [
      "The accuracy score of test data by Naive Bayes is = 58.56\n",
      "The accuracy score of train data by Naive Bayes is = 58.778333333333336\n",
      "              precision    recall  f1-score   support\n",
      "\n",
      "           0       0.81      0.59      0.68      1000\n",
      "           1       0.64      0.94      0.76      1000\n",
      "           2       0.59      0.32      0.42      1000\n",
      "           3       0.44      0.55      0.49      1000\n",
      "           4       0.38      0.78      0.51      1000\n",
      "           5       0.93      0.28      0.43      1000\n",
      "           6       0.32      0.04      0.07      1000\n",
      "           7       0.51      0.99      0.67      1000\n",
      "           8       0.83      0.71      0.77      1000\n",
      "           9       0.91      0.67      0.77      1000\n",
      "\n",
      "    accuracy                           0.59     10000\n",
      "   macro avg       0.64      0.59      0.56     10000\n",
      "weighted avg       0.64      0.59      0.56     10000\n",
      "\n",
      "Confusion Matrix: [[586  64  29 162 110   0  20   0  29   0]\n",
      " [  1 939  14  36   7   0   1   0   2   0]\n",
      " [  7  14 324  65 545   0  23   0  22   0]\n",
      " [  9 387   6 545  43   0   4   0   6   0]\n",
      " [  0  34  44 131 779   0   4   0   8   0]\n",
      " [  0   0   1   1   0 278   3 660   5  52]\n",
      " [117  34 112 200 435   0  40   0  62   0]\n",
      " [  0   0   0   0   0   3   0 988   0   9]\n",
      " [  0   2  19  85 149   3  27   4 710   1]\n",
      " [  0   0   1   1   0  16   3 304   8 667]]\n"
     ]
    }
   ],
   "source": [
    "#Deriving Accuracy score for test data\n",
    "nb_test = accuracy_score(y_test,yTestHat_nb, normalize = True) * 100\n",
    "\n",
    "#Deriving Accuract score for train data\n",
    "nb_train = accuracy_score(y_train,yTrainHat_nb, normalize = True) * 100 \n",
    "\n",
    "print(\"The accuracy score of test data by Naive Bayes is = \" + str(nb_test))\n",
    "print(\"The accuracy score of train data by Naive Bayes is = \" + str(nb_train))\n",
    "cr_nb = classification_report(y_test,yTestHat_nb)\n",
    "print(cr_nb)\n",
    "print(\"Confusion Matrix:\", confusion_matrix(y_test,yTestHat_nb))"
   ]
  },
  {
   "cell_type": "markdown",
   "id": "89dd5462",
   "metadata": {},
   "source": [
    "<p><b> Model Name: K-Nearesr Neighbors</b>\n",
    "<p> KNN which can be used for both classification as well as regression seem to work well for our dataset. To find the best n_neighbors for KNN, I used Grid Selection Cross validation with 5 fold. But the accuracy scores were almost similar when I chose 5, 6 and same when I select 4,5. Finally I decided to go with n_neighbors as 5. The accuracy score is 86% which is pretty good comapred to the other models used so far. Amoung the model used so far in my analysis, this model seems to give me the highest accuracy score. Though it took time to run the model, the result seem to be pretty good in classifying the dataset."
   ]
  },
  {
   "cell_type": "code",
   "execution_count": 18,
   "id": "f8e68cfa",
   "metadata": {},
   "outputs": [
    {
     "name": "stdout",
     "output_type": "stream",
     "text": [
      "Best Parameter: {'n_neighbors': 4}\n",
      "Best Cross Validation Score: 0.8570166666666665\n"
     ]
    }
   ],
   "source": [
    "#Implementing the Model\n",
    "KNN_model = KNeighborsClassifier()\n",
    "\n",
    "#Selecting the best n_neighbors using GridSelectionCV for train dataset\n",
    "param_grid = {'n_neighbors': [1,2,3,4,5,6,7]}\n",
    "cv = StratifiedKFold(n_splits=5, random_state=0, shuffle=True)\n",
    "grid = GridSearchCV(KNN_model, param_grid, cv = cv, scoring='accuracy',\n",
    "                    return_train_score=True)\n",
    "grid.fit(X_train, y_train)\n",
    "\n",
    "print(\"Best Parameter: {}\".format(grid.best_params_))\n",
    "print(\"Best Cross Validation Score: {}\".format(grid.best_score_))"
   ]
  },
  {
   "cell_type": "code",
   "execution_count": 19,
   "id": "75efea75",
   "metadata": {},
   "outputs": [
    {
     "name": "stdout",
     "output_type": "stream",
     "text": [
      "Best Parameter: {'n_neighbors': 6}\n",
      "Best Cross Validation Score: 0.8139999999999998\n"
     ]
    }
   ],
   "source": [
    "#Implementing the Model\n",
    "from sklearn.model_selection import GridSearchCV\n",
    "\n",
    "KNN_model = KNeighborsClassifier()\n",
    "\n",
    "#Selecting the best n_neighbors using GridSelectionCV for test dataset\n",
    "param_grid = {'n_neighbors': [1,2,3,4,5,6,7]}\n",
    "cv = StratifiedKFold(n_splits=5, random_state=0, shuffle=True)\n",
    "grid = GridSearchCV(KNN_model, param_grid, cv = cv, scoring='accuracy',\n",
    "                    return_train_score=True)\n",
    "grid.fit(X_test, y_test)\n",
    "\n",
    "print(\"Best Parameter: {}\".format(grid.best_params_))\n",
    "print(\"Best Cross Validation Score: {}\".format(grid.best_score_))"
   ]
  },
  {
   "cell_type": "code",
   "execution_count": 20,
   "id": "d073feed",
   "metadata": {},
   "outputs": [
    {
     "data": {
      "text/plain": [
       "KNeighborsClassifier()"
      ]
     },
     "execution_count": 20,
     "metadata": {},
     "output_type": "execute_result"
    }
   ],
   "source": [
    "#Finally selecting n_neighbors as 5 and fitting the train and test data\n",
    "KNN_model = KNeighborsClassifier(n_neighbors=5)\n",
    "\n",
    "KNN_model.fit(X_train, y_train)"
   ]
  },
  {
   "cell_type": "code",
   "execution_count": 22,
   "id": "5187d952",
   "metadata": {},
   "outputs": [
    {
     "name": "stdout",
     "output_type": "stream",
     "text": [
      "              precision    recall  f1-score   support\n",
      "\n",
      "           0       0.77      0.85      0.81      1000\n",
      "           1       0.99      0.97      0.98      1000\n",
      "           2       0.73      0.82      0.77      1000\n",
      "           3       0.90      0.86      0.88      1000\n",
      "           4       0.79      0.77      0.78      1000\n",
      "           5       0.99      0.82      0.90      1000\n",
      "           6       0.66      0.57      0.61      1000\n",
      "           7       0.88      0.96      0.92      1000\n",
      "           8       0.97      0.95      0.96      1000\n",
      "           9       0.90      0.97      0.93      1000\n",
      "\n",
      "    accuracy                           0.86     10000\n",
      "   macro avg       0.86      0.86      0.85     10000\n",
      "weighted avg       0.86      0.86      0.85     10000\n",
      "\n",
      "Confusion Matrix: [[855   1  17  16   3   1 100   1   6   0]\n",
      " [  8 968   4  12   4   0   3   0   1   0]\n",
      " [ 24   2 819  11  75   0  69   0   0   0]\n",
      " [ 41   8  15 860  39   0  34   0   3   0]\n",
      " [  2   1 126  26 773   0  71   0   1   0]\n",
      " [  1   0   0   0   0 822   5  96   1  75]\n",
      " [176   1 132  23  80   0 575   0  13   0]\n",
      " [  0   0   0   0   0   3   0 961   0  36]\n",
      " [  2   0  10   4   7   0  16   7 953   1]\n",
      " [  0   0   0   0   0   2   1  29   0 968]]\n"
     ]
    }
   ],
   "source": [
    "#Predicting test dataset\n",
    "yTestHatKNN5 = KNN_model.predict(X_test)\n",
    "\n",
    "#Predicting train dataset\n",
    "yTrainHatKNN5 = KNN_model.predict(X_train)\n",
    "\n",
    "#Deriving Accuracy score go==for test dataset\n",
    "KNN_test = accuracy_score(y_test,yTestHatKNN5, normalize = True) * 100 \n",
    "\n",
    "#Deriving Accuracy score go==for train dataset\n",
    "KNN_train = accuracy_score(y_train,yTrainHatKNN5, normalize = True) * 100\n",
    "\n",
    "#Classification report for the model KNN\n",
    "cr_KNN = classification_report(y_test,yTestHatKNN5)\n",
    "print(cr_KNN)\n",
    "print(\"Confusion Matrix:\", confusion_matrix(y_test,yTestHatKNN5))"
   ]
  },
  {
   "cell_type": "code",
   "execution_count": 25,
   "id": "509641c0",
   "metadata": {},
   "outputs": [
    {
     "name": "stdout",
     "output_type": "stream",
     "text": [
      "              precision    recall  f1-score   support\n",
      "\n",
      "           0       0.76      0.87      0.81      1000\n",
      "           1       0.99      0.97      0.98      1000\n",
      "           2       0.71      0.83      0.77      1000\n",
      "           3       0.90      0.86      0.88      1000\n",
      "           4       0.80      0.75      0.77      1000\n",
      "           5       0.99      0.83      0.91      1000\n",
      "           6       0.67      0.56      0.61      1000\n",
      "           7       0.88      0.97      0.92      1000\n",
      "           8       0.97      0.95      0.96      1000\n",
      "           9       0.91      0.96      0.93      1000\n",
      "\n",
      "    accuracy                           0.85     10000\n",
      "   macro avg       0.86      0.85      0.85     10000\n",
      "weighted avg       0.86      0.85      0.85     10000\n",
      "\n"
     ]
    }
   ],
   "source": [
    "KNN_model = KNeighborsClassifier(n_neighbors=6)\n",
    "\n",
    "KNN_model.fit(X_train, y_train)\n",
    "\n",
    "yTestHatKNN6 = KNN_model.predict(X_test)\n",
    "\n",
    "KNN_test = accuracy_score(y_test,yTestHatKNN6, normalize = True) * 100\n",
    "\n",
    "cr_KNN = classification_report(y_test,yTestHatKNN6)\n",
    "print(cr_KNN)\n"
   ]
  },
  {
   "cell_type": "markdown",
   "id": "74c0abdb",
   "metadata": {},
   "source": [
    "<p><b> Model Name: Random Forest Classifier</b>\n",
    "<p> SO far from all hte model used for our dataset, Random Forest Classifier perfroms the best. The only draw back is that it took more time than expected. The accuracy score was about 88% which is great and the in sample accuracy is 100%. When trying Gris SearchCV for selecting best hyperparameter, the value which got selected among 100,140,150 is 140. "
   ]
  },
  {
   "cell_type": "code",
   "execution_count": 42,
   "id": "f057eb9a",
   "metadata": {},
   "outputs": [
    {
     "name": "stdout",
     "output_type": "stream",
     "text": [
      "Best Parameter: {'n_estimators': 140}\n",
      "Best Model: RandomForestClassifier(n_estimators=140, random_state=0)\n"
     ]
    }
   ],
   "source": [
    "#Implementing Random Forest Classifier model \n",
    "rf_model = RandomForestClassifier(random_state=0)\n",
    "\n",
    "#Estimating best hyperprameter using Grid searchCV\n",
    "rf_hpGrid = {'n_estimators': [100,140,150]}\n",
    "\n",
    "rf_cv = StratifiedKFold(n_splits=5, random_state=0, shuffle=True)\n",
    "rf_grid = GridSearchCV(rf_model, rf_hpGrid, cv = rf_cv, \n",
    "                    return_train_score=True, scoring='accuracy')\n",
    "\n",
    "#Fitting the train and test data\n",
    "rf_grid.fit(X_train, y_train)\n",
    "\n",
    "print(\"Best Parameter: {}\".format(rf_grid.best_params_))\n",
    "\n",
    "# let's check in-sample and out-of-sample accuracy\n",
    "modelBest = rf_grid.best_estimator_\n",
    "print(\"Best Model: {}\".format(modelBest))\n",
    "\n",
    "#calculating the y_hat values for in and out sample data\n",
    "yTrainHat_rf  = modelBest.predict(X_train)\n",
    "yTestHat_rf  = modelBest.predict(X_test)"
   ]
  },
  {
   "cell_type": "code",
   "execution_count": 44,
   "id": "2ab44d95",
   "metadata": {},
   "outputs": [
    {
     "name": "stdout",
     "output_type": "stream",
     "text": [
      "In-sample Accuracy:  100.0\n",
      "Out-of-sample Accuracy:  87.83999999999999\n",
      "              precision    recall  f1-score   support\n",
      "\n",
      "           0       0.82      0.86      0.84      1000\n",
      "           1       0.99      0.96      0.98      1000\n",
      "           2       0.77      0.81      0.79      1000\n",
      "           3       0.87      0.91      0.89      1000\n",
      "           4       0.78      0.81      0.79      1000\n",
      "           5       0.98      0.96      0.97      1000\n",
      "           6       0.72      0.59      0.65      1000\n",
      "           7       0.93      0.95      0.94      1000\n",
      "           8       0.96      0.97      0.97      1000\n",
      "           9       0.95      0.95      0.95      1000\n",
      "\n",
      "    accuracy                           0.88     10000\n",
      "   macro avg       0.88      0.88      0.88     10000\n",
      "weighted avg       0.88      0.88      0.88     10000\n",
      "\n",
      "Confusion Matrix: [[863   0  12  33   5   1  76   0  10   0]\n",
      " [  2 959   4  24   4   0   5   0   2   0]\n",
      " [ 13   0 814  10 107   0  54   0   2   0]\n",
      " [ 19   2   7 905  28   0  36   0   2   1]\n",
      " [  1   1  92  37 813   0  54   0   2   0]\n",
      " [  0   0   0   1   0 963   0  26   1   9]\n",
      " [153   1 123  27  86   0 594   0  16   0]\n",
      " [  0   0   0   0   0  12   0 951   0  37]\n",
      " [  1   2   2   3   5   2   6   3 975   1]\n",
      " [  0   0   0   0   0   8   1  42   2 947]]\n"
     ]
    }
   ],
   "source": [
    "#in smaple and out of sample score\n",
    "inSample_rf = accuracy_score(y_train,yTrainHat_rf, normalize = True) * 100\n",
    "outOfSample_rf = accuracy_score(y_test,yTestHat_rf, normalize = True) * 100\n",
    "\n",
    "print(\"In-sample Accuracy: \", inSample_rf)\n",
    "print(\"Out-of-sample Accuracy: \", outOfSample_rf)\n",
    "\n",
    "#classification and confusion matrix\n",
    "cr_rf = classification_report(y_test,yTestHat_rf)\n",
    "print(cr_rf)\n",
    "\n",
    "print(\"Confusion Matrix:\", confusion_matrix(y_test,yTestHat_rf))"
   ]
  },
  {
   "cell_type": "markdown",
   "id": "05d3a2bb",
   "metadata": {},
   "source": [
    "<p><b> Model Name: Neural Network</b>\n",
    "<p>The accuracy score is not more than Random forest classifier for this dataset when running Neural networks using 'lbfgs' as the solver. The 'hidden_layer_sizes' which got selected among [120,105],[100,90],[130,110] is [130,110], with in sample accuracy score of around 84% and out of sample accuracy score of around 83%. The overall accuracy for this model is 82% which is less than logistic Regression but greater than Decision Tree classifier and KNN models."
   ]
  },
  {
   "cell_type": "code",
   "execution_count": 54,
   "id": "62f5dd6a",
   "metadata": {},
   "outputs": [
    {
     "name": "stderr",
     "output_type": "stream",
     "text": [
      "C:\\Users\\Suzzane\\Anaconda3\\lib\\site-packages\\sklearn\\neural_network\\_multilayer_perceptron.py:500: ConvergenceWarning: lbfgs failed to converge (status=1):\n",
      "STOP: TOTAL NO. of ITERATIONS REACHED LIMIT.\n",
      "\n",
      "Increase the number of iterations (max_iter) or scale the data as shown in:\n",
      "    https://scikit-learn.org/stable/modules/preprocessing.html\n",
      "  self.n_iter_ = _check_optimize_result(\"lbfgs\", opt_res, self.max_iter)\n",
      "C:\\Users\\Suzzane\\Anaconda3\\lib\\site-packages\\sklearn\\neural_network\\_multilayer_perceptron.py:500: ConvergenceWarning: lbfgs failed to converge (status=1):\n",
      "STOP: TOTAL NO. of ITERATIONS REACHED LIMIT.\n",
      "\n",
      "Increase the number of iterations (max_iter) or scale the data as shown in:\n",
      "    https://scikit-learn.org/stable/modules/preprocessing.html\n",
      "  self.n_iter_ = _check_optimize_result(\"lbfgs\", opt_res, self.max_iter)\n",
      "C:\\Users\\Suzzane\\Anaconda3\\lib\\site-packages\\sklearn\\neural_network\\_multilayer_perceptron.py:500: ConvergenceWarning: lbfgs failed to converge (status=1):\n",
      "STOP: TOTAL NO. of ITERATIONS REACHED LIMIT.\n",
      "\n",
      "Increase the number of iterations (max_iter) or scale the data as shown in:\n",
      "    https://scikit-learn.org/stable/modules/preprocessing.html\n",
      "  self.n_iter_ = _check_optimize_result(\"lbfgs\", opt_res, self.max_iter)\n",
      "C:\\Users\\Suzzane\\Anaconda3\\lib\\site-packages\\sklearn\\neural_network\\_multilayer_perceptron.py:500: ConvergenceWarning: lbfgs failed to converge (status=1):\n",
      "STOP: TOTAL NO. of ITERATIONS REACHED LIMIT.\n",
      "\n",
      "Increase the number of iterations (max_iter) or scale the data as shown in:\n",
      "    https://scikit-learn.org/stable/modules/preprocessing.html\n",
      "  self.n_iter_ = _check_optimize_result(\"lbfgs\", opt_res, self.max_iter)\n",
      "C:\\Users\\Suzzane\\Anaconda3\\lib\\site-packages\\sklearn\\neural_network\\_multilayer_perceptron.py:500: ConvergenceWarning: lbfgs failed to converge (status=1):\n",
      "STOP: TOTAL NO. of ITERATIONS REACHED LIMIT.\n",
      "\n",
      "Increase the number of iterations (max_iter) or scale the data as shown in:\n",
      "    https://scikit-learn.org/stable/modules/preprocessing.html\n",
      "  self.n_iter_ = _check_optimize_result(\"lbfgs\", opt_res, self.max_iter)\n",
      "C:\\Users\\Suzzane\\Anaconda3\\lib\\site-packages\\sklearn\\neural_network\\_multilayer_perceptron.py:500: ConvergenceWarning: lbfgs failed to converge (status=2):\n",
      "ABNORMAL_TERMINATION_IN_LNSRCH.\n",
      "\n",
      "Increase the number of iterations (max_iter) or scale the data as shown in:\n",
      "    https://scikit-learn.org/stable/modules/preprocessing.html\n",
      "  self.n_iter_ = _check_optimize_result(\"lbfgs\", opt_res, self.max_iter)\n",
      "C:\\Users\\Suzzane\\Anaconda3\\lib\\site-packages\\sklearn\\neural_network\\_multilayer_perceptron.py:500: ConvergenceWarning: lbfgs failed to converge (status=1):\n",
      "STOP: TOTAL NO. of ITERATIONS REACHED LIMIT.\n",
      "\n",
      "Increase the number of iterations (max_iter) or scale the data as shown in:\n",
      "    https://scikit-learn.org/stable/modules/preprocessing.html\n",
      "  self.n_iter_ = _check_optimize_result(\"lbfgs\", opt_res, self.max_iter)\n",
      "C:\\Users\\Suzzane\\Anaconda3\\lib\\site-packages\\sklearn\\neural_network\\_multilayer_perceptron.py:500: ConvergenceWarning: lbfgs failed to converge (status=2):\n",
      "ABNORMAL_TERMINATION_IN_LNSRCH.\n",
      "\n",
      "Increase the number of iterations (max_iter) or scale the data as shown in:\n",
      "    https://scikit-learn.org/stable/modules/preprocessing.html\n",
      "  self.n_iter_ = _check_optimize_result(\"lbfgs\", opt_res, self.max_iter)\n",
      "C:\\Users\\Suzzane\\Anaconda3\\lib\\site-packages\\sklearn\\neural_network\\_multilayer_perceptron.py:500: ConvergenceWarning: lbfgs failed to converge (status=2):\n",
      "ABNORMAL_TERMINATION_IN_LNSRCH.\n",
      "\n",
      "Increase the number of iterations (max_iter) or scale the data as shown in:\n",
      "    https://scikit-learn.org/stable/modules/preprocessing.html\n",
      "  self.n_iter_ = _check_optimize_result(\"lbfgs\", opt_res, self.max_iter)\n",
      "C:\\Users\\Suzzane\\Anaconda3\\lib\\site-packages\\sklearn\\neural_network\\_multilayer_perceptron.py:500: ConvergenceWarning: lbfgs failed to converge (status=2):\n",
      "ABNORMAL_TERMINATION_IN_LNSRCH.\n",
      "\n",
      "Increase the number of iterations (max_iter) or scale the data as shown in:\n",
      "    https://scikit-learn.org/stable/modules/preprocessing.html\n",
      "  self.n_iter_ = _check_optimize_result(\"lbfgs\", opt_res, self.max_iter)\n",
      "C:\\Users\\Suzzane\\Anaconda3\\lib\\site-packages\\sklearn\\neural_network\\_multilayer_perceptron.py:500: ConvergenceWarning: lbfgs failed to converge (status=1):\n",
      "STOP: TOTAL NO. of ITERATIONS REACHED LIMIT.\n",
      "\n",
      "Increase the number of iterations (max_iter) or scale the data as shown in:\n",
      "    https://scikit-learn.org/stable/modules/preprocessing.html\n",
      "  self.n_iter_ = _check_optimize_result(\"lbfgs\", opt_res, self.max_iter)\n",
      "C:\\Users\\Suzzane\\Anaconda3\\lib\\site-packages\\sklearn\\neural_network\\_multilayer_perceptron.py:500: ConvergenceWarning: lbfgs failed to converge (status=1):\n",
      "STOP: TOTAL NO. of ITERATIONS REACHED LIMIT.\n",
      "\n",
      "Increase the number of iterations (max_iter) or scale the data as shown in:\n",
      "    https://scikit-learn.org/stable/modules/preprocessing.html\n",
      "  self.n_iter_ = _check_optimize_result(\"lbfgs\", opt_res, self.max_iter)\n",
      "C:\\Users\\Suzzane\\Anaconda3\\lib\\site-packages\\sklearn\\neural_network\\_multilayer_perceptron.py:500: ConvergenceWarning: lbfgs failed to converge (status=1):\n",
      "STOP: TOTAL NO. of ITERATIONS REACHED LIMIT.\n",
      "\n",
      "Increase the number of iterations (max_iter) or scale the data as shown in:\n",
      "    https://scikit-learn.org/stable/modules/preprocessing.html\n",
      "  self.n_iter_ = _check_optimize_result(\"lbfgs\", opt_res, self.max_iter)\n",
      "C:\\Users\\Suzzane\\Anaconda3\\lib\\site-packages\\sklearn\\neural_network\\_multilayer_perceptron.py:500: ConvergenceWarning: lbfgs failed to converge (status=1):\n",
      "STOP: TOTAL NO. of ITERATIONS REACHED LIMIT.\n",
      "\n",
      "Increase the number of iterations (max_iter) or scale the data as shown in:\n",
      "    https://scikit-learn.org/stable/modules/preprocessing.html\n",
      "  self.n_iter_ = _check_optimize_result(\"lbfgs\", opt_res, self.max_iter)\n",
      "C:\\Users\\Suzzane\\Anaconda3\\lib\\site-packages\\sklearn\\neural_network\\_multilayer_perceptron.py:500: ConvergenceWarning: lbfgs failed to converge (status=1):\n",
      "STOP: TOTAL NO. of ITERATIONS REACHED LIMIT.\n",
      "\n",
      "Increase the number of iterations (max_iter) or scale the data as shown in:\n",
      "    https://scikit-learn.org/stable/modules/preprocessing.html\n",
      "  self.n_iter_ = _check_optimize_result(\"lbfgs\", opt_res, self.max_iter)\n",
      "C:\\Users\\Suzzane\\Anaconda3\\lib\\site-packages\\sklearn\\neural_network\\_multilayer_perceptron.py:500: ConvergenceWarning: lbfgs failed to converge (status=1):\n",
      "STOP: TOTAL NO. of ITERATIONS REACHED LIMIT.\n",
      "\n",
      "Increase the number of iterations (max_iter) or scale the data as shown in:\n",
      "    https://scikit-learn.org/stable/modules/preprocessing.html\n",
      "  self.n_iter_ = _check_optimize_result(\"lbfgs\", opt_res, self.max_iter)\n"
     ]
    },
    {
     "name": "stdout",
     "output_type": "stream",
     "text": [
      "Best Parameter: {'hidden_layer_sizes': [130, 110]}\n",
      "Best Cross Validation Score: 0.8343333333333334\n"
     ]
    },
    {
     "ename": "TypeError",
     "evalue": "'numpy.float64' object is not callable",
     "output_type": "error",
     "traceback": [
      "\u001b[1;31m---------------------------------------------------------------------------\u001b[0m",
      "\u001b[1;31mTypeError\u001b[0m                                 Traceback (most recent call last)",
      "\u001b[1;32m<ipython-input-54-cd298d98d465>\u001b[0m in \u001b[0;36m<module>\u001b[1;34m\u001b[0m\n\u001b[0;32m     23\u001b[0m \u001b[1;33m\u001b[0m\u001b[0m\n\u001b[0;32m     24\u001b[0m \u001b[1;31m#calculating accuracy score for in and out sample data\u001b[0m\u001b[1;33m\u001b[0m\u001b[1;33m\u001b[0m\u001b[1;33m\u001b[0m\u001b[0m\n\u001b[1;32m---> 25\u001b[1;33m \u001b[0minSample_nn\u001b[0m \u001b[1;33m=\u001b[0m \u001b[0maccuracy_score\u001b[0m\u001b[1;33m(\u001b[0m\u001b[0my_train\u001b[0m\u001b[1;33m,\u001b[0m\u001b[0myTrainHat_nn\u001b[0m\u001b[1;33m,\u001b[0m \u001b[0mnormalize\u001b[0m \u001b[1;33m=\u001b[0m \u001b[1;32mTrue\u001b[0m\u001b[1;33m)\u001b[0m \u001b[1;33m*\u001b[0m \u001b[1;36m100\u001b[0m\u001b[1;33m\u001b[0m\u001b[1;33m\u001b[0m\u001b[0m\n\u001b[0m\u001b[0;32m     26\u001b[0m \u001b[0moutOfSample_nn\u001b[0m \u001b[1;33m=\u001b[0m \u001b[0maccuracy_score\u001b[0m\u001b[1;33m(\u001b[0m\u001b[0my_test\u001b[0m\u001b[1;33m,\u001b[0m\u001b[0myTestHat_nn\u001b[0m\u001b[1;33m,\u001b[0m \u001b[0mnormalize\u001b[0m \u001b[1;33m=\u001b[0m \u001b[1;32mTrue\u001b[0m\u001b[1;33m)\u001b[0m \u001b[1;33m*\u001b[0m \u001b[1;36m100\u001b[0m\u001b[1;33m\u001b[0m\u001b[1;33m\u001b[0m\u001b[0m\n\u001b[0;32m     27\u001b[0m \u001b[1;33m\u001b[0m\u001b[0m\n",
      "\u001b[1;31mTypeError\u001b[0m: 'numpy.float64' object is not callable"
     ]
    }
   ],
   "source": [
    "#Implementing the model \n",
    "nn_model = MLPClassifier(solver='lbfgs',random_state=0)\n",
    "\n",
    "#finding best hyperparameter values\n",
    "param_grid_nn = {'hidden_layer_sizes': [[120,105],[100,90],[130,110]]}\n",
    "\n",
    "\n",
    "nn_cv = StratifiedKFold(n_splits=5, random_state=0, shuffle=True)\n",
    "\n",
    "#defining the training model\n",
    "nn_grid = GridSearchCV(nn_model, param_grid_nn, cv = nn_cv, \n",
    "                    return_train_score=True, scoring='accuracy')\n",
    "#Fitting the model \n",
    "nn_grid.fit(X_train, y_train)\n",
    "\n",
    "#Printing the results\n",
    "print(\"Best Parameter: {}\".format(nn_grid.best_params_))\n",
    "print(\"Best Cross Validation Score: {}\".format(nn_grid.best_score_))\n",
    "\n",
    "#Preidting train and test dataset\n",
    "yTrainHat_nn = nn_grid.predict(X_train)\n",
    "yTestHat_nn = nn_grid.predict(X_test)\n",
    "\n",
    "#calculating accuracy score for in and out sample data\n",
    "inSample_nn = accuracy_score(y_train,yTrainHat_nn, normalize = True) * 100\n",
    "outOfSample_nn = accuracy_score(y_test,yTestHat_nn, normalize = True) * 100\n",
    "\n",
    "print(\"In-sample Accuracy: \", inSample_nn)\n",
    "print(\"Out-of-sample Accuracy: \", outOfSample_nn)\n",
    "\n",
    "#The in-sample and out-of-accuracy score which I got earlier for this particular model was,\n",
    "#In-sample Accuracy:  83.67666666666666\n",
    "#Out-of-sample Accuracy:  82.3\n"
   ]
  },
  {
   "cell_type": "code",
   "execution_count": 58,
   "id": "03fd17ab",
   "metadata": {},
   "outputs": [
    {
     "name": "stdout",
     "output_type": "stream",
     "text": [
      "              precision    recall  f1-score   support\n",
      "\n",
      "           0       0.78      0.74      0.76      1000\n",
      "           1       0.97      0.95      0.96      1000\n",
      "           2       0.70      0.73      0.71      1000\n",
      "           3       0.82      0.82      0.82      1000\n",
      "           4       0.69      0.76      0.72      1000\n",
      "           5       0.94      0.91      0.92      1000\n",
      "           6       0.59      0.53      0.56      1000\n",
      "           7       0.90      0.92      0.91      1000\n",
      "           8       0.91      0.94      0.93      1000\n",
      "           9       0.93      0.93      0.93      1000\n",
      "\n",
      "    accuracy                           0.82     10000\n",
      "   macro avg       0.82      0.82      0.82     10000\n",
      "weighted avg       0.82      0.82      0.82     10000\n",
      "\n"
     ]
    }
   ],
   "source": [
    "#classification report \n",
    "cr_nn = classification_report(y_test,yTestHat_nn)\n",
    "print(cr_nn)"
   ]
  },
  {
   "cell_type": "markdown",
   "id": "e02d14f0",
   "metadata": {},
   "source": [
    "<p><b>Classification using own Fashion Pieces</b>\n",
    "<p> The second part of this project involves, using own images classifying each of the five images using the best prediction model which gives us the best result for the Fashion MNIST dataset. The best model I choose for the below task is \"Random Forest Classifier\". "
   ]
  },
  {
   "cell_type": "code",
   "execution_count": 36,
   "id": "219d3562",
   "metadata": {},
   "outputs": [
    {
     "name": "stdout",
     "output_type": "stream",
     "text": [
      "   0    1    2    3    4    5    6    7    8    9    ...  774  775  776  777  \\\n",
      "0  180  180  181  182  182  183  183  184  184  185  ...   47   45   43   41   \n",
      "1   34   37   38   43   41   44   47   48   48   44  ...  168  155  144  138   \n",
      "2  166  206  207  208  210  213  196  129  173  201  ...  230  227  217  210   \n",
      "3   80   84   92   96  110  202  215  221  217  207  ...  127  141  145  143   \n",
      "4   70   74   78   76   77   81   78   81   86   91  ...   98  101  106  130   \n",
      "\n",
      "   778  779  780  781  782  783  \n",
      "0   39   39   40   42   43   44  \n",
      "1  132  120  117  120  114  110  \n",
      "2  211  224  233  236  234  232  \n",
      "3  134  133  128  115  109  107  \n",
      "4  160  173  170  163  157  146  \n",
      "\n",
      "[5 rows x 784 columns]\n"
     ]
    }
   ],
   "source": [
    "import numpy as np \n",
    "import pandas as pd\n",
    "import os\n",
    "import os. path\n",
    "\n",
    "df = pd.DataFrame()\n",
    "path = \"D:\\DS_pics\"\n",
    "\n",
    "for pic in os.listdir(path):\n",
    "    pathDes = path+\"/\"+pic\n",
    "    pic = Image.open(pathDes).convert('L').resize((28,28))\n",
    "    pics = np.reshape(pic,[1,784])\n",
    "    pic = pd.DataFrame(pics)\n",
    "    df = df.append(pic, ignore_index = True)\n",
    "    pic.to_pickle(pathDes)\n",
    "print(df)\n"
   ]
  },
  {
   "cell_type": "code",
   "execution_count": 48,
   "id": "4b5ffb03",
   "metadata": {},
   "outputs": [
    {
     "data": {
      "image/png": "[encoded data removed]",
      "text/plain": [
       "<Figure size 432x288 with 1 Axes>"
      ]
     },
     "metadata": {
      "needs_background": "light"
     },
     "output_type": "display_data"
    }
   ],
   "source": [
    "from numpy import asarray\n",
    "import matplotlib as mpl\n",
    "import matplotlib.pyplot as plt\n",
    "%matplotlib inline\n",
    "\n",
    "pic_array = asarray(df)\n",
    "testImage = pic_array[0]\n",
    "plt.imshow(testImage.reshape(28,28), cmap='binary')\n",
    "plt.axis('off')\n",
    "plt.show()"
   ]
  },
  {
   "cell_type": "code",
   "execution_count": 49,
   "id": "6a3aa37a",
   "metadata": {},
   "outputs": [
    {
     "data": {
      "text/plain": [
       "<matplotlib.image.AxesImage at 0x1d29a0a8580>"
      ]
     },
     "execution_count": 49,
     "metadata": {},
     "output_type": "execute_result"
    },
    {
     "data": {
      "image/png": "[encoded data removed]",
      "text/plain": [
       "<Figure size 720x720 with 6 Axes>"
      ]
     },
     "metadata": {
      "needs_background": "light"
     },
     "output_type": "display_data"
    }
   ],
   "source": [
    "fig, ax = plt.subplots(3, 2, figsize=(10, 10))\n",
    "ax[0,0].imshow(pic_array[0].reshape(28,28))\n",
    "ax[0,1].imshow(pic_array[1].reshape(28,28))\n",
    "ax[1,0].imshow(pic_array[2].reshape(28,28))\n",
    "ax[1,1].imshow(pic_array[3].reshape(28,28))\n",
    "ax[2,0].imshow(pic_array[4].reshape(28,28))"
   ]
  },
  {
   "cell_type": "code",
   "execution_count": 50,
   "id": "2d99c580",
   "metadata": {},
   "outputs": [
    {
     "name": "stdout",
     "output_type": "stream",
     "text": [
      "[8 8 6 6 8]\n"
     ]
    }
   ],
   "source": [
    "#Using Random Forest Classifier on own fashion pieces to find out Accuracy\n",
    "rf_model = RandomForestClassifier(n_estimators=140,random_state=0)\n",
    "rf_model.fit(X_train, y_train)\n",
    "\n",
    "#Image Prediction\n",
    "yTestHat_imgPre = rf_model.predict(df)\n",
    "print(yTestHat_imgPre)"
   ]
  },
  {
   "cell_type": "code",
   "execution_count": 52,
   "id": "a43d70f1",
   "metadata": {},
   "outputs": [
    {
     "name": "stdout",
     "output_type": "stream",
     "text": [
      "Shirt\n"
     ]
    }
   ],
   "source": [
    "#Assigning class names to own fashion images\n",
    "df = df.assign(images=['Sandal','T-shirt/top','Trouser','T-shirt/top','Bag'])\n",
    "df.set_index('images', inplace = True)\n",
    "\n",
    "#Fetching class names comparing original dataset's class and own images assigned class\n",
    "class_names = ['T-shirt/top','Trouser','Pullover','Dress','Coat','Sandal','Shirt','Sneaker','Bag','Ankle boot']\n",
    "print(class_names[yTestHat_imgPre[3]])\n"
   ]
  },
  {
   "cell_type": "code",
   "execution_count": 53,
   "id": "36d314c3",
   "metadata": {},
   "outputs": [
    {
     "name": "stdout",
     "output_type": "stream",
     "text": [
      "accuracy score of predicted model: 0.0\n"
     ]
    }
   ],
   "source": [
    "#Predicting accuracy\n",
    "yTestPre = [6,1,2,1,9]\n",
    "accuracy_score = accuracy_score(yTestPre,yTestHat_imgPre, normalize = True) * 100\n",
    "print(\"accuracy score of predicted model:\",accuracy_score )"
   ]
  },
  {
   "cell_type": "code",
   "execution_count": null,
   "id": "df917c5d",
   "metadata": {},
   "outputs": [],
   "source": []
  }
 ],
 "metadata": {
  "kernelspec": {
   "display_name": "Python 3",
   "language": "python",
   "name": "python3"
  }
 },
 "nbformat": 4,
 "nbformat_minor": 5
}

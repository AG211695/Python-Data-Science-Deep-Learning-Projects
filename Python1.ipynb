{
 "cells": [
  {
   "cell_type": "code",
   "execution_count": null,
   "id": "794e4c37",
   "metadata": {},
   "outputs": [],
   "source": [
    "#Homework1\n",
    "#No reference wrote code on my own\n",
    "# Defining inp1, inp2, inp3 variables as input function and asking the user to enter any string values\n",
    "# Concatenating inp1 and inp2 under string 1\n",
    "# Concatenating inp2 and inp1 under string 2\n",
    "# Assigning inp3 value as it is to String3\n",
    "# Using if,elif, else condition to check whether string 1 = string3, string2 = string3\n",
    "# When string 1 = string3, string2 = string3 are equal, the out is \"They are equal\"\n",
    "# When string 1 != string3, string2 != string3, the output is \"They are not equal\""
   ]
  },
  {
   "cell_type": "code",
   "execution_count": 2,
   "id": "62bf2b40",
   "metadata": {},
   "outputs": [
    {
     "name": "stdout",
     "output_type": "stream",
     "text": [
      "Enter string1:1\n",
      "Enter string2:1\n",
      "Enter string3:11\n",
      "They are equal\n"
     ]
    }
   ],
   "source": [
    "inp1 = input('Enter string1:')\n",
    "inp2 = input('Enter string2:')\n",
    "inp3 = input('Enter string3:')\n",
    "\n",
    "string1 = inp1 + inp2\n",
    "string2 = inp2 + inp1\n",
    "string3 = inp3\n",
    "if string1 == string3:\n",
    "    print('They are equal')\n",
    "elif string2 == string3:\n",
    "    print('They are equal')\n",
    "else:\n",
    "    print('They are not equal')\n",
    "    \n",
    "\n"
   ]
  },
  {
   "cell_type": "code",
   "execution_count": null,
   "id": "c44b45f2",
   "metadata": {},
   "outputs": [
    {
     "name": "stdout",
     "output_type": "stream",
     "text": [
      "Do you want to enter 3 or 4 integers?3\n"
     ]
    }
   ],
   "source": [
    "#Homework2\n",
    "#Source- Referred class7 lecture & the website https://www.homeworklib.com/\n",
    "#identifying the total number of integer the user wants to give as input(as per homework problem it should be 3 or 4)\n",
    "inp = input(\"Do you want to enter 3 or 4 integers?\")\n",
    "\n",
    "#Asking the user to input an integer and as inputs are always strings, converting them to integer when a user enters a \n",
    "#valid integer.Otherwise it throws the appropriate errorif inp == '3':\n",
    "if inp == '3':\n",
    "    n1 = int(input(\"Please enter the first number: \"))\n",
    "    n2 = int(input(\"Please enter the second number: \"))\n",
    "    n3 = int(input(\"Please enter the third number: \"))\n",
    "    \n",
    "elif inp == '4':\n",
    "    n1 = int(input(\"Please enter the first number: \"))\n",
    "    n2 = int(input(\"Please enter the second number: \"))\n",
    "    n3 = int(input(\"Please enter the third number: \"))\n",
    "    n4 = int(input(\"Please enter the fourth number: \"))\n",
    "else:\n",
    "    print('Invalid Input')"
   ]
  },
  {
   "cell_type": "code",
   "execution_count": 4,
   "id": "4986554b",
   "metadata": {},
   "outputs": [],
   "source": [
    "#defining a function using 'while' loop in order to making the user to enter a valid integer as input for the code to complete successfully.\n",
    "#This loop continues until the user enters a valid integer\n",
    "def test_input():\n",
    "    while(True):\n",
    "        inp = input('Please enter an integer ')\n",
    "        try:\n",
    "            x = int(inp)\n",
    "            return x\n",
    "        except:\n",
    "            print('You did not enter an integer. Please enter an integer')"
   ]
  },
  {
   "cell_type": "code",
   "execution_count": 5,
   "id": "4261b2aa",
   "metadata": {},
   "outputs": [
    {
     "name": "stdout",
     "output_type": "stream",
     "text": [
      "Please enter an integer kjkj\n",
      "You did not enter an integer. Please enter an integer\n",
      "Please enter an integer 8\n"
     ]
    },
    {
     "data": {
      "text/plain": [
       "8"
      ]
     },
     "execution_count": 5,
     "metadata": {},
     "output_type": "execute_result"
    }
   ],
   "source": [
    "test_input()"
   ]
  },
  {
   "cell_type": "code",
   "execution_count": 7,
   "id": "7d793a78",
   "metadata": {},
   "outputs": [
    {
     "name": "stdout",
     "output_type": "stream",
     "text": [
      "Do you want to enter 3 or 4 integers?3\n",
      "Please enter an integer 8\n",
      "Please enter an integer 3\n",
      "Please enter an integer 3\n",
      "the rounded average of the 3 integers is 5\n",
      "The maximum of the three integers is 8\n",
      "The minimum of the three integers is 3\n",
      "The median of the three integers is 3\n"
     ]
    }
   ],
   "source": [
    "#Using the function defined above, finding the average, maximum and minimum, and median of the numbers which user enter as input\n",
    "inp = input(\"Do you want to enter 3 or 4 integers?\")\n",
    "#if the user enters 3 as the input integer and then enters the three numbers, the following if statement will get executed\n",
    "#Finding the total first in order to find the average\n",
    "#Finding the maximum & minimum of the 3 integers using max & min funtions\n",
    "#Finding the median of the 3 integers but subtracting the maximum and minimum amoung the 3 integers with the remaining one integer\n",
    "if inp == '3':\n",
    "    n1 = test_input()\n",
    "    n2 = test_input()\n",
    "    n3 = test_input()\n",
    "    total = n1 + n2 + n3\n",
    "    average = total/3\n",
    "    print('the rounded average of the 3 integers is', round(average))\n",
    "    a = max(n1, n2, n3)\n",
    "    print('The maximum of the three integers is', a)\n",
    "    b = min(n1,n2,n3)\n",
    "    print('The minimum of the three integers is', b)\n",
    "    c = total - a - b\n",
    "    print('The median of the three integers is', c)\n",
    "\n",
    "#if the user enters 4 as the input integer and then enters the three numbers, the following if statement will get executed\n",
    "#Finding the total first in order to find the average\n",
    "#Finding the maximum & minimum of the 4 integers using max & min funtions\n",
    "#Finding the median of the 4 integers but subtracting the maximum and minimum amoung the 4 integers with the remaining two \n",
    "#integers and then dividing them by 2\n",
    "\n",
    "elif inp == '4':\n",
    "    n1 = test_input()\n",
    "    n2 = test_input()\n",
    "    n3 = test_input()\n",
    "    n4 = test_input()\n",
    "    total = n1 + n2 + n3 + n4\n",
    "    average = total/4\n",
    "    print('the average of the four integers is', round(average))\n",
    "    a = max(n1, n2, n3)\n",
    "    print('The maximum of the four integers is', a)\n",
    "    b = min(n1,n2,n3)\n",
    "    print('The minimum of the four integers is', b)\n",
    "    c = (total - a - b)/2\n",
    "    print('The median of the four integers is', c)\n",
    "else:\n",
    "    print('Invalid Input')\n",
    "    "
   ]
  },
  {
   "cell_type": "markdown",
   "id": "487e105c",
   "metadata": {},
   "source": [
    "#Homework3\n",
    "#referred Lecture from class 7 and my own code idea\n",
    "Negative integer cannot be prime numbers.\n",
    "So when the user enters any negative integer, a message displays saying \"You did not enter a positive integer\". \n",
    "When the user enters values as '0' a message displays saying \"0 is neither prime or composite\". \n",
    "Likewise when the user enters values as '1' a message displays saying \"1 is neither prime or composite\".\n",
    "When the user enters a valid positive interger, for loop is executed. \n",
    "For whatever the number entered by the user, the range is considered from 2 to the number before the entered number and for loop is executed for every number in the range list.\n",
    "So if the number entered is 5, the range is condsidered between 2 to 4, ie., 2,3,4.\n",
    "The if statement after the for loop will be executed and finds when the entered number by the user divided by the numbers in range list  gives the remainder as '0' then it prints that the number is not a prime number and until it breaks the loop when all the numbers in the range list is executed. \n",
    "If when the entered number by the user divided by the numbers in range list  gives the remainder that is not equal to '0' then it prints that the number is a prime number and until it breaks the loop when all the numbers in the range list is executed.\n",
    "For this program, the user has to run the script for every input."
   ]
  },
  {
   "cell_type": "code",
   "execution_count": 12,
   "id": "31b8dd73",
   "metadata": {},
   "outputs": [
    {
     "name": "stdout",
     "output_type": "stream",
     "text": [
      "Enter any number: 10\n",
      "10 is not a prime number\n"
     ]
    }
   ],
   "source": [
    "#Input function to ask the user to enter any number and directly considering it as an integer value\n",
    "inp_num = int(input(\"Enter any number: \"))\n",
    "\n",
    "#stating the if condition for the entered value greater than 1\n",
    "#stating elif condition when the user enters values that is '0' or '1'\n",
    "#stating else condition when the user enters any negative value\n",
    "if inp_num > 1:\n",
    "    for n in range(2, inp_num):\n",
    "        if (inp_num % n) == 0:\n",
    "            print(inp_num, \"is not a prime number\")\n",
    "            break\n",
    "    else:\n",
    "        print(inp_num, \"is a prime number\")    \n",
    "elif inp_num == 0 or inp_num == 1:\n",
    "    print(inp_num, \"is neither prime or composite\")\n",
    "    \n",
    "else:\n",
    "    print('You did not enter a positive integer')"
   ]
  },
  {
   "cell_type": "markdown",
   "id": "76f09a91",
   "metadata": {},
   "source": [
    "#Homework4\n",
    "#referred Lecture from class 7\n",
    "#Asking the program to generate a random key between 1 to 100 using random function and assigning it to a variable\n",
    "#Asking the user to continue entering the guess until the key is correct by using try& except method inside while loop\n",
    "#Giving while True as conditional value, asking the user to enter the guess for the key generated by the program between 1 to 100\n",
    "#When the guess is not equal to key, using if, elif conditions to guide the user to enter guess until correct key is entered\n",
    "#Using else consition to confirm the user that the guess and key is correct and using break condition breaking the loop\n",
    "When the user enters value that in invalid, using except condition to show the message that the user has entered invalid value\n",
    "Atlast using print function to print the key in the output\n"
   ]
  },
  {
   "cell_type": "code",
   "execution_count": null,
   "id": "66430604",
   "metadata": {},
   "outputs": [],
   "source": [
    "import random\n",
    "final_key = random.randint(1,100)\n",
    "\n",
    "while(True):\n",
    "    user_guess = input('Hi!Please enter your guess: ')\n",
    "    try:\n",
    "        user_guess = float(user_guess)\n",
    "        if user_guess - final_key > 10:\n",
    "            print('Your guess is much bigger than the key! Try again!')\n",
    "        elif 10 >= user_guess - final_key > 0:\n",
    "            print('Almost there! But still a bit too big! Try again!')\n",
    "        elif user_guess - final_key < -10:\n",
    "            print('Your guess is much smaller than the key! Try again!')\n",
    "        elif 0 > user_guess-final_key >= -10:\n",
    "            print('Almost there! But still a bit too small! Try again!')\n",
    "        else:\n",
    "            print('Bingo!')\n",
    "            break\n",
    "    except:\n",
    "        print('Your input for guess is not valid')\n",
    "print(final_key)"
   ]
  },
  {
   "cell_type": "markdown",
   "id": "703ddab6",
   "metadata": {},
   "source": [
    "#Homework5\n",
    "#defining a function to make the user to enter only integer or float values and continuosly asking the user to enter until the valid value is entered.\n",
    "#Assigning the 'input_float' function to each variable x1,y1,x2,y2,x&y and using boolean condition 'True or False', finding out whether the values entered for x&y are inside the rectangle or not\n",
    "The program is finding the value is true by analysing the entered value is 'x' by the user is between x_min and x_max, if the value is not between x_min and x_max, then the result is printed false. Likewise the program is finding the value is true by analysing the entered value is 'y' by the user is between y_min and y_max, if the value is not between y_min and y_max, then the result is printed false.\n",
    "The final code explains whether the user wants to continue entering input values, if the user enter 'Y' or 'y', then the user again wants to enter all values from x1,x2,x & y1,y2,y. otherwise the program will print 'Goodbye!'\n"
   ]
  },
  {
   "cell_type": "code",
   "execution_count": null,
   "id": "31386804",
   "metadata": {},
   "outputs": [],
   "source": [
    "#referred Lecture from class 7\n",
    "#defining a function to make the user to enter only integer or float values and continuosly asking the user to enter until the valid value is entered.\n",
    "def input_float():\n",
    "    inp = input('Please enter an integer or float:')\n",
    "    while(True):\n",
    "        try:\n",
    "            x = float(inp)\n",
    "            return x\n",
    "        except:\n",
    "            print('You did not enter an interger or a float.')\n",
    "            inp = input('Please enter an integer or float:')"
   ]
  },
  {
   "cell_type": "code",
   "execution_count": null,
   "id": "77f78443",
   "metadata": {},
   "outputs": [],
   "source": [
    "input_float()"
   ]
  },
  {
   "cell_type": "code",
   "execution_count": null,
   "id": "63e3a916",
   "metadata": {},
   "outputs": [],
   "source": [
    "#Assigning the 'input_float' function to each variable x1,y1,x2,y2,x&y and using boolean condition 'True or False', finding out whether the values entered for x&y are inside the rectangle or not\n",
    "def rectangle():\n",
    "    x1 = input_float()\n",
    "    y1 = input_float()\n",
    "    x2 = input_float()\n",
    "    y2 = input_float()\n",
    "    x = input_float()\n",
    "    y = input_float()\n",
    "    x_max = max(x1,x2)\n",
    "    x_min = min(x1,x2)\n",
    "    y_max = max(y1,y2)\n",
    "    y_min = min(y1,y2)\n",
    "    if x_min <= x < x_max and y_min < y < y_max:\n",
    "        print('True') \n",
    "    else:\n",
    "        print('False') \n",
    "    inp = input('Do you want to continue?')\n",
    "    while inp == 'Y' or inp == 'y':\n",
    "        rectangle()\n",
    "        inp = input('Do you want to continue?')\n",
    "    print('Goodbye!')"
   ]
  },
  {
   "cell_type": "code",
   "execution_count": null,
   "id": "61de9c9e",
   "metadata": {},
   "outputs": [],
   "source": [
    "rectangle()"
   ]
  },
  {
   "cell_type": "code",
   "execution_count": null,
   "id": "32c617dc",
   "metadata": {},
   "outputs": [],
   "source": []
  },
  {
   "cell_type": "code",
   "execution_count": null,
   "id": "39af671e",
   "metadata": {},
   "outputs": [],
   "source": []
  }
 ],
 "metadata": {
  "kernelspec": {
   "display_name": "Python 3",
   "language": "python",
   "name": "python3"
  },
  "language_info": {
   "codemirror_mode": {
    "name": "ipython",
    "version": 3
   },
   "file_extension": ".py",
   "mimetype": "text/x-python",
   "name": "python",
   "nbconvert_exporter": "python",
   "pygments_lexer": "ipython3",
   "version": "3.8.8"
  }
 },
 "nbformat": 4,
 "nbformat_minor": 5
}

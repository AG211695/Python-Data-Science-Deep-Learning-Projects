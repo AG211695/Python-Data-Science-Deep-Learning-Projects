{
 "cells": [
  {
   "cell_type": "code",
   "execution_count": null,
   "id": "da1a749d",
   "metadata": {},
   "outputs": [],
   "source": [
    "#Homework3\n",
    "#Question1\n",
    "#Text file used 'julius_ceasar-1.txt'\n",
    "#Opening text file in read mode ,and by setting while loop to be 'true' trying to open the correct file by asking the user to enter a correct file name compulsorily using try and except method\n",
    "fname = input(\"Please enter the name of the dictionary file you want to open: \")\n",
    "while(True):\n",
    "    try:\n",
    "        fhand = open(fname, 'r')\n",
    "        break\n",
    "    except:\n",
    "        print(\"Something wrong with the file name entered:\", fname)\n",
    "        fname = input(\"Please enter a valid file name: \")"
   ]
  },
  {
   "cell_type": "code",
   "execution_count": null,
   "id": "e6bc077a",
   "metadata": {},
   "outputs": [],
   "source": [
    "#Next we are readling all the lines in the file using readlines() function and storing it to s variable in list form.\n",
    "#Using strip() function to remove white spaces either in the beginning or at the end of the lines\n",
    "#Printing out the number of lines in the file using print() function\n",
    "fhand_lines = fhand.readlines()\n",
    "fhand.close()\n",
    "for x in fhand_lines:\n",
    "    print(x.strip())\n",
    "print(\"Number of lines is\", len(x))"
   ]
  },
  {
   "cell_type": "code",
   "execution_count": null,
   "id": "6967093f",
   "metadata": {},
   "outputs": [],
   "source": [
    "#Next we are going to count total number of words in the file\n",
    "#Using word count to be 0, we are using for loop to loop through each line in the file and using split function fetching each words into a list to a variable\n",
    "#Looping will add the length of words each time reading a line using len() function and the word count will keep increasing until the loop stops\n",
    "#Using print() function we are printing out the number of words in the file\n",
    "count = 0\n",
    "for i in fhand_lines:\n",
    "    words = i.strip().split()\n",
    "    count = count + len(words)\n",
    "print(\"Number of words are\", count)"
   ]
  },
  {
   "cell_type": "code",
   "execution_count": null,
   "id": "1baf863b",
   "metadata": {},
   "outputs": [],
   "source": [
    "#Next we're going to find total number of charaters in the file\n",
    "#Same procedure as above and we are using regular expression\n",
    "#A character is any single length string, e.g. ‘a’, ‘-‘, etc. but not a space (or white space)\n",
    "import re\n",
    "char_count = 0\n",
    "for y in fhand_lines:\n",
    "    y = newline = re.sub(r'[^\\w\\s]','',y)\n",
    "    words = y.split()\n",
    "    for word in words:\n",
    "        char_count = char_count + len(word)\n",
    "print(\"Number of characters is\", char_count)   "
   ]
  },
  {
   "cell_type": "code",
   "execution_count": null,
   "id": "a6b6e6ef",
   "metadata": {},
   "outputs": [],
   "source": [
    "#Finding out the average length of a word in the text file\n",
    "#Opening the file as like the very beginning step\n",
    "#Then setting line_count as 0, using for loop we are counting the total lines in the file\n",
    "# Then setting word_count as 0, using for loop we are counting the total words per line in the file\n",
    "#Then we are calculating average by dividing line_count to the word_count and printing out the average result\n",
    "fname = input(\"Please enter the name of the dictionary file you want to open: \")\n",
    "while(True):\n",
    "    try:\n",
    "        fhand = open(fname, 'r')\n",
    "        break\n",
    "    except:\n",
    "        print(\"Something wrong with the file name entered:\", fname)\n",
    "        fname = input(\"Please enter a valid file name: \")\n",
    "line_count=0\n",
    "word_count=0\n",
    "for line in fhand:\n",
    "    line_count = line_count + 1\n",
    "    words=line.strip().split()\n",
    "for word in words:\n",
    "    word_count = word_count + 1\n",
    "average=line_count/word_count\n",
    "print('Average words per line: ',average)"
   ]
  },
  {
   "cell_type": "code",
   "execution_count": null,
   "id": "72a4b198",
   "metadata": {},
   "outputs": [],
   "source": [
    "#Question2\n",
    "#Opening text file in read mode ,and by setting while loop to be 'true' trying to open the correct file by asking the user to enter a correct file name compulsorily using try and except method\n",
    "#Text file used 'movie_reviews.txt'"
   ]
  },
  {
   "cell_type": "code",
   "execution_count": null,
   "id": "aa1f9808",
   "metadata": {},
   "outputs": [],
   "source": [
    "fname = input(\"Please enter the name of the dictionary file you want to open: \")\n",
    "while(True):\n",
    "    try:\n",
    "        fhand = open(fname, 'r')\n",
    "        break\n",
    "    except:\n",
    "        print(\"Something wrong with the file name entered:\", fname)\n",
    "        fname = input(\"Please enter a valid file name: \")"
   ]
  },
  {
   "cell_type": "code",
   "execution_count": null,
   "id": "46c45ddd",
   "metadata": {},
   "outputs": [],
   "source": [
    "#Reading all the lines in fhand using readlines() and printing it to confirm whether the text file has the correct content printed\n",
    "fhand_lines = fhand.readlines()\n",
    "fhand.close()\n",
    "for x in fhand_lines:\n",
    "    print(x)"
   ]
  },
  {
   "cell_type": "code",
   "execution_count": null,
   "id": "423befec",
   "metadata": {},
   "outputs": [],
   "source": [
    "#To fetch all the usernames only from the text file, we are performing the below steps\n",
    "#First creating an empty list to store the usernames values in later steps\n",
    "#Using if function to strip out blank lines present wherever inside the text file we are using for this program\n",
    "#By assigning two variables and now spliting the fhand_lines each into two part (first part into username, second part into the remaining movie name and ratings)by using split fuction by comma as the delimiter\n",
    "#Using strip() function in line4 to remove anyother blank space\n",
    "#Using append funtion and adding the username to the empty list created in the very first line\n",
    "#and then printing the userneames using print funtion\n",
    "usernames = []\n",
    "for x in fhand_lines:\n",
    "    if len(x.strip()) > 0:\n",
    "        username, reviews = x.strip().split(',', 1)\n",
    "        usernames.append(username)\n",
    "print(usernames)"
   ]
  },
  {
   "cell_type": "code",
   "execution_count": null,
   "id": "c2d4b1c3",
   "metadata": {},
   "outputs": [],
   "source": [
    "#Printing the second variable of the above program that is reveiws using for loop\n",
    "review = []\n",
    "for x in fhand_lines:\n",
    "    if len(x.strip()) > 0:\n",
    "        username, reviews = x.strip().split(',', 1)\n",
    "        review.append(reviews)\n",
    "print(review)"
   ]
  },
  {
   "cell_type": "code",
   "execution_count": null,
   "id": "b99b1480",
   "metadata": {},
   "outputs": [],
   "source": [
    "#To calculate the eucledian distance between two reviews we need to select two usernames \n",
    "#Giving the list of the usernames available for the input user to select\n",
    "print('Below is the list of available users you can choose: ')\n",
    "for y in usernames:\n",
    "    print(y)\n",
    "user1 = input('Please enter the first user: ')\n",
    "user2 = input('Please enter the second user: ')\n"
   ]
  },
  {
   "cell_type": "code",
   "execution_count": null,
   "id": "129f9838",
   "metadata": {},
   "outputs": [],
   "source": [
    "#Defining a funtion to extract the selected user ratings, and then replicate the comparison between the two selected users\n",
    "#Creating an empty dictionaries and then using for loop we are reading each values in fhand_lines and then using if statement we are proceeding with the program only when the user name we entered in inp1 & inp2 startswith any one of the line in fhand_lines\n",
    "#By assigning two variables and now spliting the fhand_lines each into two part (first part into username, second part into the remaining movie name and ratings)by using split fuction by comma as the delimiter\n",
    "#Using strip() function in line4 to remove anyother blank space\n",
    "#Creating another variable to split the movie names and its ratings\n",
    "#With the list value stored in the above varilable, we are using range(len(variable)) to iterate the elements in the list\n",
    "#We are using movie names as the keys and the ratings number as the value\n",
    "#While using range(len(variable)) in for loop, if the index is divisible by 2 then movie name is printed out, if not the ratings will printed out until the for loop stops\n",
    "#Lastly the dict() for which the variable is assigned will be returned\n",
    "\n",
    "def user_rating(user):\n",
    "    user_review = dict()\n",
    "    for x in fhand_lines:\n",
    "        if x.startswith(user):\n",
    "            username, reviews = x.strip().split(',', 1)   \n",
    "            ratings = reviews.strip().split(',')\n",
    "            print(ratings)\n",
    "            for i in range(len(ratings)):\n",
    "                if i%2 == 0:\n",
    "                    print(ratings[i])\n",
    "                    print(ratings[i+1])\n",
    "                    user_review[ratings[i]] = ratings[i+1]\n",
    "            return(user_review)"
   ]
  },
  {
   "cell_type": "code",
   "execution_count": null,
   "id": "769f25e1",
   "metadata": {},
   "outputs": [],
   "source": [
    "#Using the defined function and calling the users we entered using the arguments uer1 and user2 and storing the result in dict1 & dict2\n",
    "dict1 = user_rating(user1)\n",
    "print(dict1)"
   ]
  },
  {
   "cell_type": "code",
   "execution_count": null,
   "id": "9626a915",
   "metadata": {},
   "outputs": [],
   "source": [
    "dict2 = user_rating(user2)\n",
    "print(dict2)"
   ]
  },
  {
   "cell_type": "code",
   "execution_count": null,
   "id": "c00e2d10",
   "metadata": {},
   "outputs": [],
   "source": [
    "#To find the eucledean distance we need to use the same movies they have reviewed\n",
    "#Using the for loop we are fetching the common values in keys in both dict1 & dict2 from the above step in to a list by creating a empty list\n",
    "#Printing the list using the print() function\n",
    "lst = []\n",
    "for n in dict1.keys():\n",
    "    if n in dict2.keys():\n",
    "        lst.append(n)\n",
    "print(lst)"
   ]
  },
  {
   "cell_type": "code",
   "execution_count": null,
   "id": "e5f90967",
   "metadata": {},
   "outputs": [],
   "source": [
    "#Finding the eucledean distance using the values of the extracted keys in the above step\n",
    "#As keeping count as 0, we are assigning eucld as 0 and using the for loop looping through the values of dict1 & dict2 by converting them to float\n",
    "#Eucledean distance formula d = √[(x2 – x1)^2 + (y2 – y1)^2].\n",
    "#Using the for loop looping through the values of dict1 & dict2, assigning a variable to add the eucld with differences between the values and sqauring them until the loop stops\n",
    "#returing the square root value of the above step will be the final result when the eucledean function is called\n",
    "#Eucledean distance between two users\n",
    "def eucledean():\n",
    "    eucld = 0\n",
    "    for i in lst:\n",
    "        eucld = eucld + (float(dict1[i]) - float(dict2[i]))**2\n",
    "    return eucld**(1/2)"
   ]
  },
  {
   "cell_type": "code",
   "execution_count": null,
   "id": "db3b753f",
   "metadata": {},
   "outputs": [],
   "source": [
    "eucledean()"
   ]
  },
  {
   "cell_type": "code",
   "execution_count": null,
   "id": "e4bcc61f",
   "metadata": {},
   "outputs": [],
   "source": [
    "#Eucledean distance between one user and all other users\n",
    "def read_file(filename):\n",
    "    movies_db = {}\n",
    "    with open(filename) as fp:\n",
    "        content = fp.readlines()\n",
    "        for line in contents:\n",
    "            data = line.strip().split(',')\n",
    "            reviewer_name = data[0]\n",
    "            movies_db[reviewer_name] = {}\n",
    "            i = 1\n",
    "            while(i<len(data)):\n",
    "                movies_db[reviewer_name][data[i]] = float(data[i+1])\n",
    "                i+= 2\n",
    "        fp.close()\n",
    "    return movies_db\n",
    "    \n",
    "    "
   ]
  },
  {
   "cell_type": "code",
   "execution_count": null,
   "id": "1914fac3",
   "metadata": {},
   "outputs": [],
   "source": [
    "def similarity_all_reviewers(movies_db,reviewer):\n",
    "    if reviewers in movies_db:\n",
    "        reviewer_rating = {}\n",
    "        movies_rating = movie_db[reviewer]\n",
    "        for reviewer1 in movie_db:\n",
    "            if reviwer != reviewer1:\n",
    "                sum_sq = 0\n",
    "                movies_ratings1 = movies_db[reviewer1]\n",
    "                for movie in movies_ratings:\n",
    "                    if movie in movies_ratings1:\n",
    "                        sum_sq += (movies_ratings[movie] - movies_ratings1[movie])**2\n",
    "                    reviewer_rating[reviewer1] = sum_sq**0.5\n",
    "        return reviewer_rating\n",
    "    return None"
   ]
  },
  {
   "cell_type": "code",
   "execution_count": null,
   "id": "6d40fb00",
   "metadata": {},
   "outputs": [],
   "source": [
    "\n",
    "def main():\n",
    "    choice = 0\n",
    "    filename = input('Give the name of the movie reviews file:' )\n",
    "    movies_db = read_file(filename)# get the dictionary representing the database\n",
    "    if len(movies_db) == 0:\n",
    "        print('No reviews found')\n",
    "    else :\n",
    "        while choice != 3:\n",
    "            choice = int(input('\\nWhat do you want to do? Input 1 for similarity between two reviewers, or Input 2 for similarity between one reviewer and all others in the database or 3 to quit:'))\n",
    "\n",
    "            if choice == 1:\n",
    "                reviewer1 = input('Provide Reviewer1 name: ') \n",
    "                reviewer2 = input('Provide Reviewer2 name: ')\n",
    "                score = similarity_between_2_reviewers(movies_db, reviewer1, reviewer2)\n",
    "\n",
    "                if score == None:\n",
    "                    print('\\nOne or more reviewer(s) not found in the database')\n",
    "                else :\n",
    "                    print('\\nThe similarity score between Peter and Trevor chappel is: %.3f' % score)\n",
    "\n",
    "            elif choice == 2:\n",
    "                reviewer = input('Provide Reviewer name:') \n",
    "                score_dic = similarity_all_reviewers(movies_db, reviewer)\n",
    "\n",
    "                if score_dic == None:\n",
    "                    print('\\nReviewer not found in the database')\n",
    "                else :\n",
    "                    print('\\nThe Similarity Scores are:')\n",
    "                    for reviewer1 in score_dic:\n",
    "                        print('%s s %.3f' % (reviewer, reviewer1, score_dic[reviewer1]))\n",
    "\n",
    "            elif choice != 3:\n",
    "                print('Invalid choice') \n",
    "        print('Goodbye!')"
   ]
  },
  {
   "cell_type": "code",
   "execution_count": null,
   "id": "a354d240",
   "metadata": {},
   "outputs": [],
   "source": [
    "main()"
   ]
  },
  {
   "cell_type": "code",
   "execution_count": null,
   "id": "8b44e2bc",
   "metadata": {},
   "outputs": [],
   "source": []
  }
 ],
 "metadata": {
  "kernelspec": {
   "display_name": "Python 3",
   "language": "python",
   "name": "python3"
  },
  "language_info": {
   "codemirror_mode": {
    "name": "ipython",
    "version": 3
   },
   "file_extension": ".py",
   "mimetype": "text/x-python",
   "name": "python",
   "nbconvert_exporter": "python",
   "pygments_lexer": "ipython3",
   "version": "3.8.8"
  }
 },
 "nbformat": 4,
 "nbformat_minor": 5
}
